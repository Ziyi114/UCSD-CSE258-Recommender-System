{
 "cells": [
  {
   "cell_type": "code",
   "execution_count": 1,
   "id": "dbcb905c",
   "metadata": {},
   "outputs": [],
   "source": [
    "import numpy\n",
    "import urllib\n",
    "import scipy.optimize\n",
    "import random\n",
    "from sklearn import linear_model\n",
    "import gzip\n",
    "from collections import defaultdict"
   ]
  },
  {
   "cell_type": "code",
   "execution_count": 2,
   "id": "8bbbc2fe",
   "metadata": {},
   "outputs": [],
   "source": [
    "def assertFloat(x):\n",
    "    assert type(float(x)) == float\n",
    "\n",
    "def assertFloatList(items, N):\n",
    "    assert len(items) == N\n",
    "    assert [type(float(x)) for x in items] == [float]*N"
   ]
  },
  {
   "cell_type": "code",
   "execution_count": 4,
   "id": "85c00feb",
   "metadata": {},
   "outputs": [],
   "source": [
    "f = open(\"5year.arff\", 'r')"
   ]
  },
  {
   "cell_type": "code",
   "execution_count": 5,
   "id": "6fad4389",
   "metadata": {},
   "outputs": [],
   "source": [
    "# Read and parse the data\n",
    "while not '@data' in f.readline():\n",
    "    pass\n",
    "\n",
    "dataset = []\n",
    "for l in f:\n",
    "    if '?' in l: # Missing entry\n",
    "        continue\n",
    "    l = l.split(',')\n",
    "    values = [1] + [float(x) for x in l]\n",
    "    values[-1] = values[-1] > 0 # Convert to bool\n",
    "    dataset.append(values)"
   ]
  },
  {
   "cell_type": "code",
   "execution_count": 6,
   "id": "7691e3d0",
   "metadata": {},
   "outputs": [],
   "source": [
    "X = [d[:-1] for d in dataset]\n",
    "y = [d[-1] for d in dataset]"
   ]
  },
  {
   "cell_type": "code",
   "execution_count": 7,
   "id": "03249990",
   "metadata": {},
   "outputs": [],
   "source": [
    "answers = {} # Your answers"
   ]
  },
  {
   "cell_type": "code",
   "execution_count": 8,
   "id": "a31a5b59",
   "metadata": {},
   "outputs": [],
   "source": [
    "def accuracy(predictions, y):\n",
    "    cnt,n=0,len(y)\n",
    "    for i in range(n):\n",
    "        cnt+=predictions[i]==y[i]\n",
    "    return cnt/n"
   ]
  },
  {
   "cell_type": "code",
   "execution_count": 9,
   "id": "f2552965",
   "metadata": {},
   "outputs": [],
   "source": [
    "from sklearn.linear_model import LogisticRegression\n",
    "from sklearn.metrics import confusion_matrix"
   ]
  },
  {
   "cell_type": "code",
   "execution_count": 11,
   "id": "83974166",
   "metadata": {},
   "outputs": [],
   "source": [
    "def BER(predictions, y):\n",
    "    coef_mat=confusion_matrix(y,predictions)\n",
    "    TN, FP=coef_mat[0][0],coef_mat[0][1]\n",
    "    FN, TP=coef_mat[1][0],coef_mat[1][1]\n",
    "    return (FP/(FP+TN)+FN/(FN+TP))/2"
   ]
  },
  {
   "cell_type": "code",
   "execution_count": 12,
   "id": "5e78a6fc",
   "metadata": {},
   "outputs": [],
   "source": [
    "### Question 1"
   ]
  },
  {
   "cell_type": "code",
   "execution_count": 13,
   "id": "f59633dd",
   "metadata": {},
   "outputs": [
    {
     "name": "stderr",
     "output_type": "stream",
     "text": [
      "/Users/zhongziyi/opt/anaconda3/lib/python3.9/site-packages/sklearn/linear_model/_logistic.py:814: ConvergenceWarning: lbfgs failed to converge (status=1):\n",
      "STOP: TOTAL NO. of ITERATIONS REACHED LIMIT.\n",
      "\n",
      "Increase the number of iterations (max_iter) or scale the data as shown in:\n",
      "    https://scikit-learn.org/stable/modules/preprocessing.html\n",
      "Please also refer to the documentation for alternative solver options:\n",
      "    https://scikit-learn.org/stable/modules/linear_model.html#logistic-regression\n",
      "  n_iter_i = _check_optimize_result(\n"
     ]
    }
   ],
   "source": [
    "mod = linear_model.LogisticRegression(C=1)\n",
    "mod.fit(X,y)\n",
    "\n",
    "pred = mod.predict(X)"
   ]
  },
  {
   "cell_type": "code",
   "execution_count": 14,
   "id": "2cf87727",
   "metadata": {},
   "outputs": [
    {
     "data": {
      "text/plain": [
       "0.9656878917848895"
      ]
     },
     "execution_count": 14,
     "metadata": {},
     "output_type": "execute_result"
    }
   ],
   "source": [
    "acc1=accuracy(pred,y)\n",
    "acc1"
   ]
  },
  {
   "cell_type": "code",
   "execution_count": 15,
   "id": "1e1c57b2",
   "metadata": {},
   "outputs": [
    {
     "data": {
      "text/plain": [
       "0.47668514315934635"
      ]
     },
     "execution_count": 15,
     "metadata": {},
     "output_type": "execute_result"
    }
   ],
   "source": [
    "ber1=BER(pred,y)\n",
    "ber1"
   ]
  },
  {
   "cell_type": "code",
   "execution_count": 16,
   "id": "033a6c45",
   "metadata": {},
   "outputs": [],
   "source": [
    "answers['Q1'] = [acc1, ber1] # Accuracy and balanced error rate"
   ]
  },
  {
   "cell_type": "code",
   "execution_count": 17,
   "id": "e75988a2",
   "metadata": {},
   "outputs": [],
   "source": [
    "assertFloatList(answers['Q1'], 2)"
   ]
  },
  {
   "cell_type": "code",
   "execution_count": 18,
   "id": "30482ced",
   "metadata": {},
   "outputs": [],
   "source": [
    "### Question 2"
   ]
  },
  {
   "cell_type": "code",
   "execution_count": 19,
   "id": "bc8f8282",
   "metadata": {},
   "outputs": [
    {
     "name": "stderr",
     "output_type": "stream",
     "text": [
      "/Users/zhongziyi/opt/anaconda3/lib/python3.9/site-packages/sklearn/linear_model/_logistic.py:814: ConvergenceWarning: lbfgs failed to converge (status=1):\n",
      "STOP: TOTAL NO. of ITERATIONS REACHED LIMIT.\n",
      "\n",
      "Increase the number of iterations (max_iter) or scale the data as shown in:\n",
      "    https://scikit-learn.org/stable/modules/preprocessing.html\n",
      "Please also refer to the documentation for alternative solver options:\n",
      "    https://scikit-learn.org/stable/modules/linear_model.html#logistic-regression\n",
      "  n_iter_i = _check_optimize_result(\n"
     ]
    }
   ],
   "source": [
    "mod = linear_model.LogisticRegression(C=1, class_weight='balanced')\n",
    "mod.fit(X,y)\n",
    "\n",
    "pred = mod.predict(X)"
   ]
  },
  {
   "cell_type": "code",
   "execution_count": 20,
   "id": "e99274d7",
   "metadata": {},
   "outputs": [
    {
     "data": {
      "text/plain": [
       "0.6958099637083471"
      ]
     },
     "execution_count": 20,
     "metadata": {},
     "output_type": "execute_result"
    }
   ],
   "source": [
    "acc2=accuracy(pred,y)\n",
    "acc2"
   ]
  },
  {
   "cell_type": "code",
   "execution_count": 21,
   "id": "1946a9b7",
   "metadata": {},
   "outputs": [
    {
     "data": {
      "text/plain": [
       "0.304060477041619"
      ]
     },
     "execution_count": 21,
     "metadata": {},
     "output_type": "execute_result"
    }
   ],
   "source": [
    "ber2=BER(pred,y)\n",
    "ber2"
   ]
  },
  {
   "cell_type": "code",
   "execution_count": 22,
   "id": "de8d6195",
   "metadata": {},
   "outputs": [],
   "source": [
    "answers['Q2'] = [acc2, ber2]"
   ]
  },
  {
   "cell_type": "code",
   "execution_count": 23,
   "id": "8a90cd8a",
   "metadata": {},
   "outputs": [],
   "source": [
    "assertFloatList(answers['Q2'], 2)"
   ]
  },
  {
   "cell_type": "code",
   "execution_count": 24,
   "id": "e1fa1ccb",
   "metadata": {},
   "outputs": [],
   "source": [
    "### Question 3"
   ]
  },
  {
   "cell_type": "code",
   "execution_count": 25,
   "id": "55d4beff",
   "metadata": {},
   "outputs": [],
   "source": [
    "random.seed(3)\n",
    "random.shuffle(dataset)"
   ]
  },
  {
   "cell_type": "code",
   "execution_count": 26,
   "id": "d19c0c8a",
   "metadata": {},
   "outputs": [],
   "source": [
    "X = [d[:-1] for d in dataset]\n",
    "y = [d[-1] for d in dataset]"
   ]
  },
  {
   "cell_type": "code",
   "execution_count": 27,
   "id": "18d5fd88",
   "metadata": {},
   "outputs": [],
   "source": [
    "Xtrain, Xvalid, Xtest = X[:len(X)//2], X[len(X)//2:(3*len(X))//4], X[(3*len(X))//4:]\n",
    "ytrain, yvalid, ytest = y[:len(X)//2], y[len(X)//2:(3*len(X))//4], y[(3*len(X))//4:]"
   ]
  },
  {
   "cell_type": "code",
   "execution_count": 28,
   "id": "6d66f07c",
   "metadata": {},
   "outputs": [
    {
     "data": {
      "text/plain": [
       "(1515, 758, 758)"
      ]
     },
     "execution_count": 28,
     "metadata": {},
     "output_type": "execute_result"
    }
   ],
   "source": [
    "len(Xtrain), len(Xvalid), len(Xtest)"
   ]
  },
  {
   "cell_type": "code",
   "execution_count": 38,
   "id": "f5b8d226",
   "metadata": {},
   "outputs": [
    {
     "name": "stderr",
     "output_type": "stream",
     "text": [
      "/Users/zhongziyi/opt/anaconda3/lib/python3.9/site-packages/sklearn/linear_model/_logistic.py:814: ConvergenceWarning: lbfgs failed to converge (status=1):\n",
      "STOP: TOTAL NO. of ITERATIONS REACHED LIMIT.\n",
      "\n",
      "Increase the number of iterations (max_iter) or scale the data as shown in:\n",
      "    https://scikit-learn.org/stable/modules/preprocessing.html\n",
      "Please also refer to the documentation for alternative solver options:\n",
      "    https://scikit-learn.org/stable/modules/linear_model.html#logistic-regression\n",
      "  n_iter_i = _check_optimize_result(\n"
     ]
    }
   ],
   "source": [
    "mod = linear_model.LogisticRegression(C=1, class_weight='balanced')\n",
    "mod.fit(Xtrain,ytrain)\n",
    "\n",
    "predTrain = mod.predict(Xtrain)\n",
    "predValid = mod.predict(Xvalid)\n",
    "predTest  = mod.predict(Xtest)"
   ]
  },
  {
   "cell_type": "code",
   "execution_count": null,
   "id": "37a050c0",
   "metadata": {},
   "outputs": [],
   "source": []
  },
  {
   "cell_type": "code",
   "execution_count": 39,
   "id": "647021ed",
   "metadata": {},
   "outputs": [
    {
     "data": {
      "text/plain": [
       "0.29287226079549855"
      ]
     },
     "execution_count": 39,
     "metadata": {},
     "output_type": "execute_result"
    }
   ],
   "source": [
    "berTrain=BER(predTrain,ytrain)\n",
    "berTrain"
   ]
  },
  {
   "cell_type": "code",
   "execution_count": 40,
   "id": "aa3338a6",
   "metadata": {},
   "outputs": [
    {
     "data": {
      "text/plain": [
       "0.3159203980099502"
      ]
     },
     "execution_count": 40,
     "metadata": {},
     "output_type": "execute_result"
    }
   ],
   "source": [
    "berValid=BER(predValid,yvalid)\n",
    "berValid"
   ]
  },
  {
   "cell_type": "code",
   "execution_count": 41,
   "id": "95e1d979",
   "metadata": {},
   "outputs": [
    {
     "data": {
      "text/plain": [
       "0.2585616438356164"
      ]
     },
     "execution_count": 41,
     "metadata": {},
     "output_type": "execute_result"
    }
   ],
   "source": [
    "berTest=BER(predTest,ytest)\n",
    "berTest"
   ]
  },
  {
   "cell_type": "code",
   "execution_count": 42,
   "id": "0bb40dc2",
   "metadata": {},
   "outputs": [],
   "source": [
    "answers['Q3'] = [berTrain, berValid, berTest]"
   ]
  },
  {
   "cell_type": "code",
   "execution_count": 43,
   "id": "9e0ece86",
   "metadata": {},
   "outputs": [],
   "source": [
    "assertFloatList(answers['Q3'], 3)"
   ]
  },
  {
   "cell_type": "code",
   "execution_count": 37,
   "id": "81d44cb2",
   "metadata": {},
   "outputs": [],
   "source": [
    "### Question 4"
   ]
  },
  {
   "cell_type": "code",
   "execution_count": 50,
   "id": "5ff0daca",
   "metadata": {},
   "outputs": [
    {
     "data": {
      "text/plain": [
       "9"
      ]
     },
     "execution_count": 50,
     "metadata": {},
     "output_type": "execute_result"
    }
   ],
   "source": [
    "C_list=[0.0001,0.001,0.01,0.1,1,10,100,1000,10000]\n",
    "len(C_list)"
   ]
  },
  {
   "cell_type": "code",
   "execution_count": 51,
   "id": "75e6fbd0",
   "metadata": {},
   "outputs": [
    {
     "name": "stderr",
     "output_type": "stream",
     "text": [
      "/Users/zhongziyi/opt/anaconda3/lib/python3.9/site-packages/sklearn/linear_model/_logistic.py:814: ConvergenceWarning: lbfgs failed to converge (status=1):\n",
      "STOP: TOTAL NO. of ITERATIONS REACHED LIMIT.\n",
      "\n",
      "Increase the number of iterations (max_iter) or scale the data as shown in:\n",
      "    https://scikit-learn.org/stable/modules/preprocessing.html\n",
      "Please also refer to the documentation for alternative solver options:\n",
      "    https://scikit-learn.org/stable/modules/linear_model.html#logistic-regression\n",
      "  n_iter_i = _check_optimize_result(\n",
      "/Users/zhongziyi/opt/anaconda3/lib/python3.9/site-packages/sklearn/linear_model/_logistic.py:814: ConvergenceWarning: lbfgs failed to converge (status=1):\n",
      "STOP: TOTAL NO. of ITERATIONS REACHED LIMIT.\n",
      "\n",
      "Increase the number of iterations (max_iter) or scale the data as shown in:\n",
      "    https://scikit-learn.org/stable/modules/preprocessing.html\n",
      "Please also refer to the documentation for alternative solver options:\n",
      "    https://scikit-learn.org/stable/modules/linear_model.html#logistic-regression\n",
      "  n_iter_i = _check_optimize_result(\n",
      "/Users/zhongziyi/opt/anaconda3/lib/python3.9/site-packages/sklearn/linear_model/_logistic.py:814: ConvergenceWarning: lbfgs failed to converge (status=1):\n",
      "STOP: TOTAL NO. of ITERATIONS REACHED LIMIT.\n",
      "\n",
      "Increase the number of iterations (max_iter) or scale the data as shown in:\n",
      "    https://scikit-learn.org/stable/modules/preprocessing.html\n",
      "Please also refer to the documentation for alternative solver options:\n",
      "    https://scikit-learn.org/stable/modules/linear_model.html#logistic-regression\n",
      "  n_iter_i = _check_optimize_result(\n",
      "/Users/zhongziyi/opt/anaconda3/lib/python3.9/site-packages/sklearn/linear_model/_logistic.py:814: ConvergenceWarning: lbfgs failed to converge (status=1):\n",
      "STOP: TOTAL NO. of ITERATIONS REACHED LIMIT.\n",
      "\n",
      "Increase the number of iterations (max_iter) or scale the data as shown in:\n",
      "    https://scikit-learn.org/stable/modules/preprocessing.html\n",
      "Please also refer to the documentation for alternative solver options:\n",
      "    https://scikit-learn.org/stable/modules/linear_model.html#logistic-regression\n",
      "  n_iter_i = _check_optimize_result(\n",
      "/Users/zhongziyi/opt/anaconda3/lib/python3.9/site-packages/sklearn/linear_model/_logistic.py:814: ConvergenceWarning: lbfgs failed to converge (status=1):\n",
      "STOP: TOTAL NO. of ITERATIONS REACHED LIMIT.\n",
      "\n",
      "Increase the number of iterations (max_iter) or scale the data as shown in:\n",
      "    https://scikit-learn.org/stable/modules/preprocessing.html\n",
      "Please also refer to the documentation for alternative solver options:\n",
      "    https://scikit-learn.org/stable/modules/linear_model.html#logistic-regression\n",
      "  n_iter_i = _check_optimize_result(\n",
      "/Users/zhongziyi/opt/anaconda3/lib/python3.9/site-packages/sklearn/linear_model/_logistic.py:814: ConvergenceWarning: lbfgs failed to converge (status=1):\n",
      "STOP: TOTAL NO. of ITERATIONS REACHED LIMIT.\n",
      "\n",
      "Increase the number of iterations (max_iter) or scale the data as shown in:\n",
      "    https://scikit-learn.org/stable/modules/preprocessing.html\n",
      "Please also refer to the documentation for alternative solver options:\n",
      "    https://scikit-learn.org/stable/modules/linear_model.html#logistic-regression\n",
      "  n_iter_i = _check_optimize_result(\n",
      "/Users/zhongziyi/opt/anaconda3/lib/python3.9/site-packages/sklearn/linear_model/_logistic.py:814: ConvergenceWarning: lbfgs failed to converge (status=1):\n",
      "STOP: TOTAL NO. of ITERATIONS REACHED LIMIT.\n",
      "\n",
      "Increase the number of iterations (max_iter) or scale the data as shown in:\n",
      "    https://scikit-learn.org/stable/modules/preprocessing.html\n",
      "Please also refer to the documentation for alternative solver options:\n",
      "    https://scikit-learn.org/stable/modules/linear_model.html#logistic-regression\n",
      "  n_iter_i = _check_optimize_result(\n",
      "/Users/zhongziyi/opt/anaconda3/lib/python3.9/site-packages/sklearn/linear_model/_logistic.py:814: ConvergenceWarning: lbfgs failed to converge (status=1):\n",
      "STOP: TOTAL NO. of ITERATIONS REACHED LIMIT.\n",
      "\n",
      "Increase the number of iterations (max_iter) or scale the data as shown in:\n",
      "    https://scikit-learn.org/stable/modules/preprocessing.html\n",
      "Please also refer to the documentation for alternative solver options:\n",
      "    https://scikit-learn.org/stable/modules/linear_model.html#logistic-regression\n",
      "  n_iter_i = _check_optimize_result(\n",
      "/Users/zhongziyi/opt/anaconda3/lib/python3.9/site-packages/sklearn/linear_model/_logistic.py:814: ConvergenceWarning: lbfgs failed to converge (status=1):\n",
      "STOP: TOTAL NO. of ITERATIONS REACHED LIMIT.\n",
      "\n",
      "Increase the number of iterations (max_iter) or scale the data as shown in:\n",
      "    https://scikit-learn.org/stable/modules/preprocessing.html\n",
      "Please also refer to the documentation for alternative solver options:\n",
      "    https://scikit-learn.org/stable/modules/linear_model.html#logistic-regression\n",
      "  n_iter_i = _check_optimize_result(\n"
     ]
    }
   ],
   "source": [
    "berList=[]\n",
    "for i in C_list:\n",
    "    mod = linear_model.LogisticRegression(C=i, class_weight='balanced')\n",
    "    mod.fit(Xtrain,ytrain)\n",
    "    predValid = mod.predict(Xvalid)\n",
    "    berValid=BER(predValid,yvalid)\n",
    "    berList.append(berValid)"
   ]
  },
  {
   "cell_type": "code",
   "execution_count": 52,
   "id": "95299998",
   "metadata": {},
   "outputs": [
    {
     "data": {
      "text/plain": [
       "[0.2955030044582283,\n",
       " 0.31931252826775214,\n",
       " 0.3308457711442786,\n",
       " 0.3179556761646314,\n",
       " 0.3159203980099502,\n",
       " 0.3111714156490276,\n",
       " 0.2955030044582283,\n",
       " 0.29618143050978873,\n",
       " 0.29618143050978873]"
      ]
     },
     "execution_count": 52,
     "metadata": {},
     "output_type": "execute_result"
    }
   ],
   "source": [
    "berList"
   ]
  },
  {
   "cell_type": "code",
   "execution_count": 53,
   "id": "3c96b655",
   "metadata": {},
   "outputs": [],
   "source": [
    "answers['Q4'] = berList"
   ]
  },
  {
   "cell_type": "code",
   "execution_count": 54,
   "id": "f55f3d6e",
   "metadata": {},
   "outputs": [],
   "source": [
    "assertFloatList(answers['Q4'], 9)"
   ]
  },
  {
   "cell_type": "code",
   "execution_count": 55,
   "id": "8b455b96",
   "metadata": {},
   "outputs": [],
   "source": [
    "### Question 5"
   ]
  },
  {
   "cell_type": "code",
   "execution_count": 56,
   "id": "2a80d25e",
   "metadata": {},
   "outputs": [
    {
     "data": {
      "text/plain": [
       "0.0001"
      ]
     },
     "execution_count": 56,
     "metadata": {},
     "output_type": "execute_result"
    }
   ],
   "source": [
    "berbest=min(berList)\n",
    "bestC=C_list[berList.index(berbest)]\n",
    "bestC"
   ]
  },
  {
   "cell_type": "code",
   "execution_count": 57,
   "id": "7603e5d7",
   "metadata": {},
   "outputs": [
    {
     "name": "stderr",
     "output_type": "stream",
     "text": [
      "/Users/zhongziyi/opt/anaconda3/lib/python3.9/site-packages/sklearn/linear_model/_logistic.py:814: ConvergenceWarning: lbfgs failed to converge (status=1):\n",
      "STOP: TOTAL NO. of ITERATIONS REACHED LIMIT.\n",
      "\n",
      "Increase the number of iterations (max_iter) or scale the data as shown in:\n",
      "    https://scikit-learn.org/stable/modules/preprocessing.html\n",
      "Please also refer to the documentation for alternative solver options:\n",
      "    https://scikit-learn.org/stable/modules/linear_model.html#logistic-regression\n",
      "  n_iter_i = _check_optimize_result(\n"
     ]
    },
    {
     "data": {
      "text/plain": [
       "0.261986301369863"
      ]
     },
     "execution_count": 57,
     "metadata": {},
     "output_type": "execute_result"
    }
   ],
   "source": [
    "mod = linear_model.LogisticRegression(C=bestC, class_weight='balanced')\n",
    "mod.fit(Xtrain,ytrain)\n",
    "predTest  = mod.predict(Xtest)\n",
    "ber5=BER(predTest,ytest)\n",
    "ber5"
   ]
  },
  {
   "cell_type": "code",
   "execution_count": 58,
   "id": "62bdaa25",
   "metadata": {},
   "outputs": [],
   "source": [
    "answers['Q5'] = [bestC, ber5]"
   ]
  },
  {
   "cell_type": "code",
   "execution_count": 59,
   "id": "b8cafe6e",
   "metadata": {},
   "outputs": [],
   "source": [
    "assertFloatList(answers['Q5'], 2)"
   ]
  },
  {
   "cell_type": "code",
   "execution_count": 63,
   "id": "fcbc2e08",
   "metadata": {},
   "outputs": [],
   "source": [
    "### Question 6"
   ]
  },
  {
   "cell_type": "code",
   "execution_count": 64,
   "id": "ace19c30",
   "metadata": {},
   "outputs": [],
   "source": [
    "f = gzip.open(\"young_adult_10000.json.gz\")\n",
    "dataset = []\n",
    "for l in f:\n",
    "    dataset.append(eval(l))"
   ]
  },
  {
   "cell_type": "code",
   "execution_count": 65,
   "id": "06598b0d",
   "metadata": {},
   "outputs": [],
   "source": [
    "dataTrain = dataset[:9000]\n",
    "dataTest = dataset[9000:]"
   ]
  },
  {
   "cell_type": "code",
   "execution_count": 66,
   "id": "09f07e38",
   "metadata": {},
   "outputs": [
    {
     "data": {
      "text/plain": [
       "{'user_id': '8842281e1d1347389f2ab93d60773d4d',\n",
       " 'book_id': '2767052',\n",
       " 'review_id': '248c011811e945eca861b5c31a549291',\n",
       " 'rating': 5,\n",
       " 'review_text': \"I cracked and finally picked this up. Very enjoyable quick read - couldn't put it down - it was like crack. \\n I'm a bit bothered by the lack of backstory of how Panem and the Hunger Games come about. It is just kind of explained away in a few paragraphs and we are left to accept this very strange world where teenagers are pitted into an arena each year to kill each other? I was expecting it because I've seen Battle Royale, but I would have appreciated knowing more of the backstory of how the world could have come into such a odd state. \\n I suppose what makes a book like this interesting is thinking about the strategy of it all. The players are going to be statistically encouraged to band together because they will last longer that way, but by definition of course any partnership will be broken, and the drama of how that unfolds is always interesting and full of friendships broken and betrayal. Each character approached the game in their own way. Some banded together in larger coalitions, some were loners initially and banded together later. And some were just loners, like Foxface. A lot depended on your survival skill: could you find food and water on your own? Self-dependence is highly valued - and of course our hero was strong there. \\n All in all, a fun read, but I feel kind of dirty for having read it.\",\n",
       " 'date_added': 'Wed Jan 13 13:38:25 -0800 2010',\n",
       " 'date_updated': 'Wed Mar 22 11:46:36 -0700 2017',\n",
       " 'read_at': 'Sun Mar 25 00:00:00 -0700 2012',\n",
       " 'started_at': 'Fri Mar 23 00:00:00 -0700 2012',\n",
       " 'n_votes': 24,\n",
       " 'n_comments': 25}"
      ]
     },
     "execution_count": 66,
     "metadata": {},
     "output_type": "execute_result"
    }
   ],
   "source": [
    "dataTrain[0]"
   ]
  },
  {
   "cell_type": "code",
   "execution_count": 109,
   "id": "4209458b",
   "metadata": {},
   "outputs": [],
   "source": [
    "# Some data structures you might want\n",
    "\n",
    "usersPerItem = defaultdict(set) # Maps an item to the users who rated it\n",
    "itemsPerUser = defaultdict(set) # Maps a user to the items that they rated\n",
    "reviewsPerUser = defaultdict(list)\n",
    "reviewsPerItem = defaultdict(list)\n",
    "ratingDict = {} # To retrieve a rating for a specific user/item pair\n",
    "\n",
    "for d in dataTrain:\n",
    "    user,item=d['user_id'],d['book_id']\n",
    "    usersPerItem[item].add(user)\n",
    "    itemsPerUser[user].add(item)\n",
    "    reviewsPerUser[user].append(d)\n",
    "    reviewsPerItem[item].append(d)\n"
   ]
  },
  {
   "cell_type": "code",
   "execution_count": 79,
   "id": "03c90f36",
   "metadata": {},
   "outputs": [],
   "source": [
    "def Jaccard(s1, s2):\n",
    "    nu=len(s1.intersection(s2))\n",
    "    de=len(s1.union(s2))\n",
    "    return nu/de"
   ]
  },
  {
   "cell_type": "code",
   "execution_count": 80,
   "id": "25bfacf3",
   "metadata": {},
   "outputs": [],
   "source": [
    "def mostSimilar(i, N,usersPerItem):\n",
    "    simList=[]\n",
    "    users=usersPerItem[i]\n",
    "    for i2 in usersPerItem:\n",
    "        if i==i2:continue\n",
    "        sim=Jaccard(users,usersPerItem[i2])\n",
    "        simList.append((sim,i2))\n",
    "    simList.sort(reverse=True)\n",
    "    return simList[:N]"
   ]
  },
  {
   "cell_type": "code",
   "execution_count": 81,
   "id": "2652a90d",
   "metadata": {},
   "outputs": [
    {
     "data": {
      "text/plain": [
       "[(0.4125, '6148028'),\n",
       " (0.3411764705882353, '7260188'),\n",
       " (0.1590909090909091, '256683'),\n",
       " (0.1375, '1162543'),\n",
       " (0.11494252873563218, '11735983'),\n",
       " (0.10989010989010989, '13335037'),\n",
       " (0.10810810810810811, '28187'),\n",
       " (0.10666666666666667, '428263'),\n",
       " (0.09876543209876543, '49041'),\n",
       " (0.09782608695652174, '41865')]"
      ]
     },
     "execution_count": 81,
     "metadata": {},
     "output_type": "execute_result"
    }
   ],
   "source": [
    "answers['Q6'] = mostSimilar('2767052', 10,usersPerItem)\n",
    "answers['Q6']"
   ]
  },
  {
   "cell_type": "code",
   "execution_count": 82,
   "id": "35457af6",
   "metadata": {},
   "outputs": [],
   "source": [
    "assert len(answers['Q6']) == 10\n",
    "assertFloatList([x[0] for x in answers['Q6']], 10)"
   ]
  },
  {
   "cell_type": "code",
   "execution_count": 83,
   "id": "69798ea6",
   "metadata": {},
   "outputs": [],
   "source": [
    "### Question 7"
   ]
  },
  {
   "cell_type": "code",
   "execution_count": 147,
   "id": "004b6c92",
   "metadata": {},
   "outputs": [],
   "source": [
    "mean_rating=0\n",
    "for d in dataTrain:\n",
    "    mean_rating+=d['rating']\n",
    "mean_rating/=len(dataTrain)"
   ]
  },
  {
   "cell_type": "code",
   "execution_count": 154,
   "id": "534a6767",
   "metadata": {},
   "outputs": [],
   "source": [
    "def itemAverages(item):\n",
    "    return sum(datum['rating'] for datum in reviewsPerItem[item])/len(reviewsPerItem[item])\n",
    "        \n",
    "def predictRating(user,item):\n",
    "    ratings = []\n",
    "    similarities = []\n",
    "    for d in reviewsPerUser[user]:\n",
    "        i2 = d['book_id']\n",
    "        if i2 == item: continue\n",
    "        ratings.append(d['rating'] - itemAverages(i2))\n",
    "        similarities.append(Jaccard(usersPerItem[item],usersPerItem[i2]))\n",
    "    if (sum(similarities) > 0):\n",
    "        weightedRatings = [(x*y) for x,y in zip(ratings,similarities)]\n",
    "        return itemAverages(item) + sum(weightedRatings) / sum(similarities)\n",
    "    else:\n",
    "        return mean_rating"
   ]
  },
  {
   "cell_type": "code",
   "execution_count": 155,
   "id": "3a222d20",
   "metadata": {},
   "outputs": [
    {
     "data": {
      "text/plain": [
       "2"
      ]
     },
     "execution_count": 155,
     "metadata": {},
     "output_type": "execute_result"
    }
   ],
   "source": [
    "rating_lable=[d['rating'] for d in dataTest]\n",
    "rating_lable[0]"
   ]
  },
  {
   "cell_type": "code",
   "execution_count": 156,
   "id": "412a650e",
   "metadata": {},
   "outputs": [],
   "source": [
    "rating_predict=[predictRating(d['user_id'],d['book_id']) for d in dataTest]"
   ]
  },
  {
   "cell_type": "code",
   "execution_count": 157,
   "id": "5fb4cacf",
   "metadata": {},
   "outputs": [
    {
     "data": {
      "text/plain": [
       "1.246909149815962"
      ]
     },
     "execution_count": 157,
     "metadata": {},
     "output_type": "execute_result"
    }
   ],
   "source": [
    "from sklearn.metrics import mean_squared_error\n",
    "mse7=mean_squared_error(rating_lable,rating_predict)\n",
    "mse7"
   ]
  },
  {
   "cell_type": "code",
   "execution_count": 158,
   "id": "0e3f9a1b",
   "metadata": {},
   "outputs": [],
   "source": [
    "answers['Q7'] = mse7"
   ]
  },
  {
   "cell_type": "code",
   "execution_count": 159,
   "id": "f7d294f2",
   "metadata": {},
   "outputs": [],
   "source": [
    "assertFloat(answers['Q7'])"
   ]
  },
  {
   "cell_type": "code",
   "execution_count": 160,
   "id": "088d0836",
   "metadata": {},
   "outputs": [],
   "source": [
    "### Question 8"
   ]
  },
  {
   "cell_type": "code",
   "execution_count": 161,
   "id": "781abe2c",
   "metadata": {},
   "outputs": [],
   "source": [
    "def userAverages(user):\n",
    "    return sum(datum['rating'] for datum in reviewsPerUser[user])/len(reviewsPerUser[user])\n",
    "        \n",
    "def predictRating(user,item):\n",
    "    ratings = []\n",
    "    similarities = []\n",
    "    for d in reviewsPerUser[user]:\n",
    "        u = d['user_id']\n",
    "        if u == user: continue\n",
    "        ratings.append(d['rating'] - itemAverages(i2))\n",
    "        similarities.append(Jaccard(userAverages[user],userAverages[u]))\n",
    "    if (sum(similarities) > 0):\n",
    "        weightedRatings = [(x*y) for x,y in zip(ratings,similarities)]\n",
    "        return itemAverages(item) + sum(weightedRatings) / sum(similarities)\n",
    "    else: \n",
    "        return mean_rating"
   ]
  },
  {
   "cell_type": "code",
   "execution_count": 162,
   "id": "96129295",
   "metadata": {},
   "outputs": [],
   "source": [
    "rating_predict=[predictRating(d['user_id'],d['book_id']) for d in dataTest]"
   ]
  },
  {
   "cell_type": "code",
   "execution_count": 163,
   "id": "29d0dcba",
   "metadata": {},
   "outputs": [
    {
     "data": {
      "text/plain": [
       "1.2377430123456787"
      ]
     },
     "execution_count": 163,
     "metadata": {},
     "output_type": "execute_result"
    }
   ],
   "source": [
    "mse8=mean_squared_error(rating_lable,rating_predict)\n",
    "mse8"
   ]
  },
  {
   "cell_type": "code",
   "execution_count": 164,
   "id": "2461deb6",
   "metadata": {},
   "outputs": [],
   "source": [
    "answers['Q8'] = mse8"
   ]
  },
  {
   "cell_type": "code",
   "execution_count": 165,
   "id": "def088ef",
   "metadata": {},
   "outputs": [],
   "source": [
    "assertFloat(answers['Q8'])"
   ]
  },
  {
   "cell_type": "code",
   "execution_count": 166,
   "id": "f534c8b8",
   "metadata": {},
   "outputs": [],
   "source": [
    "f = open(\"answers_hw2.txt\", 'w')\n",
    "f.write(str(answers) + '\\n')\n",
    "f.close()"
   ]
  },
  {
   "cell_type": "code",
   "execution_count": null,
   "id": "eb717703",
   "metadata": {},
   "outputs": [],
   "source": []
  }
 ],
 "metadata": {
  "kernelspec": {
   "display_name": "Python 3 (ipykernel)",
   "language": "python",
   "name": "python3"
  },
  "language_info": {
   "codemirror_mode": {
    "name": "ipython",
    "version": 3
   },
   "file_extension": ".py",
   "mimetype": "text/x-python",
   "name": "python",
   "nbconvert_exporter": "python",
   "pygments_lexer": "ipython3",
   "version": "3.9.12"
  }
 },
 "nbformat": 4,
 "nbformat_minor": 5
}
