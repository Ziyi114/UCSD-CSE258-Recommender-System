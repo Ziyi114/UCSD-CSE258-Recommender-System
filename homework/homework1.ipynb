{
 "cells": [
  {
   "cell_type": "code",
   "execution_count": 264,
   "id": "d545425e",
   "metadata": {},
   "outputs": [],
   "source": [
    "import json\n",
    "from matplotlib import pyplot as plt\n",
    "from collections import defaultdict\n",
    "from sklearn import linear_model\n",
    "import numpy\n",
    "import random\n",
    "import gzip\n",
    "import math"
   ]
  },
  {
   "cell_type": "code",
   "execution_count": 265,
   "id": "e74ac91e",
   "metadata": {},
   "outputs": [],
   "source": [
    "def assertFloat(x): # Checks that an answer is a float\n",
    "    assert type(float(x)) == float\n",
    "\n",
    "def assertFloatList(items, N):\n",
    "    assert len(items) == N\n",
    "    assert [type(float(x)) for x in items] == [float]*N"
   ]
  },
  {
   "cell_type": "code",
   "execution_count": 266,
   "id": "1a7911bf",
   "metadata": {},
   "outputs": [],
   "source": [
    "f = gzip.open(\"young_adult_10000.json.gz\")\n",
    "dataset = []\n",
    "for l in f:\n",
    "    dataset.append(json.loads(l))"
   ]
  },
  {
   "cell_type": "code",
   "execution_count": 267,
   "id": "85100ed3",
   "metadata": {},
   "outputs": [
    {
     "data": {
      "text/plain": [
       "10000"
      ]
     },
     "execution_count": 267,
     "metadata": {},
     "output_type": "execute_result"
    }
   ],
   "source": [
    "len(dataset)"
   ]
  },
  {
   "cell_type": "code",
   "execution_count": 561,
   "id": "e716aa89",
   "metadata": {},
   "outputs": [],
   "source": [
    "answers = {\"Q1\":[3.688533040832031, 0.07109019019954244, 1.5231747404538287],\n",
    "           \"Q2\":[3.7175128077972013, 0.07527591733232629, -4.121506529487976e-05, 1.5214029246165832],\n",
    "           \"Q3\":[1.5231747404538287, 1.5046686106250917, 1.496684551517923, 1.490447730223069, 1.4896106953961648],\n",
    "           \"Q4\":[1.5248743859866292,1.4977199259322445,1.4856632190311088,1.4767337440080983,1.4809577272893133],\n",
    "           \"Q5\":0.907,\n",
    "           \"Q6\":[0, 20095, 0, 308, 0.5],\n",
    "           \"Q7\":[88, 16332, 3763, 220, 0.4507731134255145],\n",
    "           \"Q8\":[0.0, 0.0, 0.03, 0.033, 0.0308]} # Put your answers to each question in this dictionary"
   ]
  },
  {
   "cell_type": "code",
   "execution_count": 268,
   "id": "cb2c286a",
   "metadata": {},
   "outputs": [
    {
     "data": {
      "text/plain": [
       "{'user_id': '8842281e1d1347389f2ab93d60773d4d',\n",
       " 'book_id': '2767052',\n",
       " 'review_id': '248c011811e945eca861b5c31a549291',\n",
       " 'rating': 5,\n",
       " 'review_text': \"I cracked and finally picked this up. Very enjoyable quick read - couldn't put it down - it was like crack. \\n I'm a bit bothered by the lack of backstory of how Panem and the Hunger Games come about. It is just kind of explained away in a few paragraphs and we are left to accept this very strange world where teenagers are pitted into an arena each year to kill each other? I was expecting it because I've seen Battle Royale, but I would have appreciated knowing more of the backstory of how the world could have come into such a odd state. \\n I suppose what makes a book like this interesting is thinking about the strategy of it all. The players are going to be statistically encouraged to band together because they will last longer that way, but by definition of course any partnership will be broken, and the drama of how that unfolds is always interesting and full of friendships broken and betrayal. Each character approached the game in their own way. Some banded together in larger coalitions, some were loners initially and banded together later. And some were just loners, like Foxface. A lot depended on your survival skill: could you find food and water on your own? Self-dependence is highly valued - and of course our hero was strong there. \\n All in all, a fun read, but I feel kind of dirty for having read it.\",\n",
       " 'date_added': 'Wed Jan 13 13:38:25 -0800 2010',\n",
       " 'date_updated': 'Wed Mar 22 11:46:36 -0700 2017',\n",
       " 'read_at': 'Sun Mar 25 00:00:00 -0700 2012',\n",
       " 'started_at': 'Fri Mar 23 00:00:00 -0700 2012',\n",
       " 'n_votes': 24,\n",
       " 'n_comments': 25}"
      ]
     },
     "execution_count": 268,
     "metadata": {},
     "output_type": "execute_result"
    }
   ],
   "source": [
    "dataset[0]"
   ]
  },
  {
   "cell_type": "code",
   "execution_count": 287,
   "id": "2a260695",
   "metadata": {},
   "outputs": [],
   "source": [
    "### Question 1"
   ]
  },
  {
   "cell_type": "code",
   "execution_count": 288,
   "id": "fea5f8f2",
   "metadata": {},
   "outputs": [],
   "source": [
    "def feature(datum):\n",
    "    # your implementation\n",
    "    feat = datum['review_text'].count('!')\n",
    "    return [feat]\n"
   ]
  },
  {
   "cell_type": "code",
   "execution_count": 289,
   "id": "8f00dea9",
   "metadata": {},
   "outputs": [],
   "source": [
    "X = [feature(data) for data in dataset]\n",
    "Y = [data['rating'] for data in dataset]"
   ]
  },
  {
   "cell_type": "code",
   "execution_count": 290,
   "id": "1605fdb3",
   "metadata": {},
   "outputs": [
    {
     "name": "stdout",
     "output_type": "stream",
     "text": [
      "[[0], [1], [0], [0], [0], [0], [4], [2], [1], [0], [0], [0], [0], [0], [0], [2], [0], [1], [1], [0], [0], [0], [0], [0], [0], [0], [1], [0], [0], [0], [0], [1], [0], [0], [0], [1], [1], [0], [7], [1]]\n"
     ]
    }
   ],
   "source": [
    "print(X[:40])"
   ]
  },
  {
   "cell_type": "code",
   "execution_count": 291,
   "id": "4fffa03a",
   "metadata": {},
   "outputs": [
    {
     "name": "stdout",
     "output_type": "stream",
     "text": [
      "[5, 5, 4, 2, 5, 5, 5, 5, 5, 5, 4, 5, 2, 5, 4, 3, 3, 5, 4, 5, 5, 5, 5, 5, 5, 5, 5, 4, 4, 4, 5, 4, 4, 5, 5, 2, 5, 2, 5, 4]\n"
     ]
    }
   ],
   "source": [
    "print(Y[0:40])"
   ]
  },
  {
   "cell_type": "code",
   "execution_count": 292,
   "id": "28559b96",
   "metadata": {},
   "outputs": [],
   "source": [
    "from sklearn.linear_model import LinearRegression\n",
    "lr=LinearRegression()"
   ]
  },
  {
   "cell_type": "code",
   "execution_count": 293,
   "id": "a13f6a00",
   "metadata": {},
   "outputs": [
    {
     "data": {
      "text/plain": [
       "LinearRegression()"
      ]
     },
     "execution_count": 293,
     "metadata": {},
     "output_type": "execute_result"
    }
   ],
   "source": [
    "lr.fit(X,Y)"
   ]
  },
  {
   "cell_type": "code",
   "execution_count": 294,
   "id": "31f9fbb5",
   "metadata": {},
   "outputs": [
    {
     "data": {
      "text/plain": [
       "array([0.07109019])"
      ]
     },
     "execution_count": 294,
     "metadata": {},
     "output_type": "execute_result"
    }
   ],
   "source": [
    "lr.coef_"
   ]
  },
  {
   "cell_type": "code",
   "execution_count": 295,
   "id": "74c8faa9",
   "metadata": {},
   "outputs": [
    {
     "data": {
      "text/plain": [
       "3.688533040832031"
      ]
     },
     "execution_count": 295,
     "metadata": {},
     "output_type": "execute_result"
    }
   ],
   "source": [
    "lr.intercept_"
   ]
  },
  {
   "cell_type": "code",
   "execution_count": 300,
   "id": "4e1eb05c",
   "metadata": {},
   "outputs": [],
   "source": [
    "[theta0,theta1]=lr.intercept_,lr.coef_[0]"
   ]
  },
  {
   "cell_type": "code",
   "execution_count": 301,
   "id": "3e3d4a90",
   "metadata": {},
   "outputs": [
    {
     "data": {
      "text/plain": [
       "array([3.68853304, 3.75962323, 3.68853304, 3.68853304, 3.68853304,\n",
       "       3.68853304, 3.9728938 , 3.83071342, 3.75962323, 3.68853304])"
      ]
     },
     "execution_count": 301,
     "metadata": {},
     "output_type": "execute_result"
    }
   ],
   "source": [
    "Y_pred=lr.predict(X)\n",
    "Y_pred[:10]"
   ]
  },
  {
   "cell_type": "code",
   "execution_count": 302,
   "id": "cd4efa1e",
   "metadata": {},
   "outputs": [
    {
     "data": {
      "text/plain": [
       "1.5231747404538287"
      ]
     },
     "execution_count": 302,
     "metadata": {},
     "output_type": "execute_result"
    }
   ],
   "source": [
    "from sklearn.metrics import mean_squared_error\n",
    "mse=mean_squared_error(Y,Y_pred)\n",
    "mse"
   ]
  },
  {
   "cell_type": "code",
   "execution_count": 303,
   "id": "51581a4f",
   "metadata": {},
   "outputs": [
    {
     "data": {
      "text/plain": [
       "[3.688533040832031, 0.07109019019954244, 1.5231747404538287]"
      ]
     },
     "execution_count": 303,
     "metadata": {},
     "output_type": "execute_result"
    }
   ],
   "source": [
    "answers['Q1'] = [theta0, theta1, mse]\n",
    "answers['Q1']"
   ]
  },
  {
   "cell_type": "code",
   "execution_count": 304,
   "id": "525fd954",
   "metadata": {},
   "outputs": [],
   "source": [
    "assertFloatList(answers['Q1'], 3) # Check the format of your answer (three floats)"
   ]
  },
  {
   "cell_type": "code",
   "execution_count": 305,
   "id": "8b84731b",
   "metadata": {},
   "outputs": [],
   "source": [
    "### Question 2"
   ]
  },
  {
   "cell_type": "code",
   "execution_count": 306,
   "id": "982ea2f5",
   "metadata": {},
   "outputs": [],
   "source": [
    "def feature(datum):\n",
    "    feat1 = datum['review_text'].count('!')\n",
    "    feat2 = len(datum['review_text'])\n",
    "    return [feat1]+[feat2]\n",
    "    "
   ]
  },
  {
   "cell_type": "code",
   "execution_count": 307,
   "id": "cda70702",
   "metadata": {},
   "outputs": [],
   "source": [
    "X = [feature(data) for data in dataset]\n",
    "Y = [data['rating'] for data in dataset]"
   ]
  },
  {
   "cell_type": "code",
   "execution_count": 308,
   "id": "12eaae2d",
   "metadata": {},
   "outputs": [
    {
     "data": {
      "text/plain": [
       "[[0, 1326],\n",
       " [1, 224],\n",
       " [0, 118],\n",
       " [0, 1952],\n",
       " [0, 554],\n",
       " [0, 486],\n",
       " [4, 257],\n",
       " [2, 10],\n",
       " [1, 31],\n",
       " [0, 62]]"
      ]
     },
     "execution_count": 308,
     "metadata": {},
     "output_type": "execute_result"
    }
   ],
   "source": [
    "X[:10]"
   ]
  },
  {
   "cell_type": "code",
   "execution_count": 309,
   "id": "9b00b28c",
   "metadata": {},
   "outputs": [
    {
     "data": {
      "text/plain": [
       "LinearRegression()"
      ]
     },
     "execution_count": 309,
     "metadata": {},
     "output_type": "execute_result"
    }
   ],
   "source": [
    "lr=LinearRegression()\n",
    "lr.fit(X,Y)"
   ]
  },
  {
   "cell_type": "code",
   "execution_count": 311,
   "id": "ff949a17",
   "metadata": {},
   "outputs": [
    {
     "data": {
      "text/plain": [
       "[3.7175128077972013, 0.07527591733232629, -4.121506529487976e-05]"
      ]
     },
     "execution_count": 311,
     "metadata": {},
     "output_type": "execute_result"
    }
   ],
   "source": [
    "theta0, [theta1, theta2]=lr.intercept_,lr.coef_\n",
    "[theta0, theta1, theta2]"
   ]
  },
  {
   "cell_type": "code",
   "execution_count": 312,
   "id": "b31efd88",
   "metadata": {},
   "outputs": [
    {
     "data": {
      "text/plain": [
       "array([3.66286163, 3.78355655, 3.71264943, ..., 3.68338673, 3.7018923 ,\n",
       "       3.7079097 ])"
      ]
     },
     "execution_count": 312,
     "metadata": {},
     "output_type": "execute_result"
    }
   ],
   "source": [
    "Y_pre=lr.predict(X)\n",
    "Y_pre"
   ]
  },
  {
   "cell_type": "code",
   "execution_count": 313,
   "id": "e9583d70",
   "metadata": {},
   "outputs": [
    {
     "data": {
      "text/plain": [
       "1.5214029246165832"
      ]
     },
     "execution_count": 313,
     "metadata": {},
     "output_type": "execute_result"
    }
   ],
   "source": [
    "mse=mean_squared_error(Y,Y_pre)\n",
    "mse"
   ]
  },
  {
   "cell_type": "code",
   "execution_count": 315,
   "id": "f099afd8",
   "metadata": {},
   "outputs": [
    {
     "name": "stdout",
     "output_type": "stream",
     "text": [
      "[3.7175128077972013, 0.07527591733232629, -4.121506529487976e-05, 1.5214029246165832]\n"
     ]
    }
   ],
   "source": [
    "answers['Q2'] = [theta0, theta1, theta2, mse]\n",
    "print(answers[\"Q2\"])"
   ]
  },
  {
   "cell_type": "code",
   "execution_count": 316,
   "id": "31e2f9e8",
   "metadata": {},
   "outputs": [],
   "source": [
    "assertFloatList(answers['Q2'], 4)"
   ]
  },
  {
   "cell_type": "code",
   "execution_count": 38,
   "id": "1147c4f6",
   "metadata": {},
   "outputs": [],
   "source": [
    "### Question 3"
   ]
  },
  {
   "cell_type": "code",
   "execution_count": 39,
   "id": "c76e4ee1",
   "metadata": {},
   "outputs": [],
   "source": [
    "def feature(datum, deg):\n",
    "    # feature for a specific polynomial degree\n",
    "    feat = datum['review_text'].count('!')\n",
    "    ans=[]\n",
    "    ans.append(feat)\n",
    "    for i in range(deg-1):\n",
    "        tmp=ans[-1]\n",
    "        ans.append(tmp*feat)\n",
    "    return [1] + ans"
   ]
  },
  {
   "cell_type": "code",
   "execution_count": 40,
   "id": "24015161",
   "metadata": {},
   "outputs": [],
   "source": [
    "#degree 1\n",
    "X = [feature(data,1) for data in dataset]\n",
    "Y = [data['rating'] for data in dataset]"
   ]
  },
  {
   "cell_type": "code",
   "execution_count": 41,
   "id": "8f0b5c76",
   "metadata": {},
   "outputs": [
    {
     "data": {
      "text/plain": [
       "[[1, 0],\n",
       " [1, 1],\n",
       " [1, 0],\n",
       " [1, 0],\n",
       " [1, 0],\n",
       " [1, 0],\n",
       " [1, 4],\n",
       " [1, 2],\n",
       " [1, 1],\n",
       " [1, 0]]"
      ]
     },
     "execution_count": 41,
     "metadata": {},
     "output_type": "execute_result"
    }
   ],
   "source": [
    "X[:10]"
   ]
  },
  {
   "cell_type": "code",
   "execution_count": 42,
   "id": "20227e08",
   "metadata": {},
   "outputs": [
    {
     "data": {
      "text/plain": [
       "1.5231747404538287"
      ]
     },
     "execution_count": 42,
     "metadata": {},
     "output_type": "execute_result"
    }
   ],
   "source": [
    "lr=LinearRegression()\n",
    "lr.fit(X,Y)\n",
    "Y_pre=lr.predict(X)\n",
    "mse=mean_squared_error(Y,Y_pre)\n",
    "mse"
   ]
  },
  {
   "cell_type": "code",
   "execution_count": 45,
   "id": "7a0e919c",
   "metadata": {},
   "outputs": [],
   "source": [
    "mses=[]"
   ]
  },
  {
   "cell_type": "code",
   "execution_count": 46,
   "id": "5f272f69",
   "metadata": {},
   "outputs": [],
   "source": [
    "mses.append(mse)"
   ]
  },
  {
   "cell_type": "code",
   "execution_count": 49,
   "id": "92caba90",
   "metadata": {},
   "outputs": [
    {
     "data": {
      "text/plain": [
       "1.5046686106250917"
      ]
     },
     "execution_count": 49,
     "metadata": {},
     "output_type": "execute_result"
    }
   ],
   "source": [
    "#degree 2\n",
    "X = [feature(data,2) for data in dataset]\n",
    "lr=LinearRegression()\n",
    "lr.fit(X,Y)\n",
    "Y_pre=lr.predict(X)\n",
    "mse=mean_squared_error(Y,Y_pre)\n",
    "mse"
   ]
  },
  {
   "cell_type": "code",
   "execution_count": 50,
   "id": "b83ca1b3",
   "metadata": {},
   "outputs": [],
   "source": [
    "mses.append(mse)"
   ]
  },
  {
   "cell_type": "code",
   "execution_count": 51,
   "id": "b5b0cd83",
   "metadata": {},
   "outputs": [
    {
     "data": {
      "text/plain": [
       "1.496684551517923"
      ]
     },
     "execution_count": 51,
     "metadata": {},
     "output_type": "execute_result"
    }
   ],
   "source": [
    "#degree 3\n",
    "X = [feature(data,3) for data in dataset]\n",
    "lr=LinearRegression()\n",
    "lr.fit(X,Y)\n",
    "Y_pre=lr.predict(X)\n",
    "mse=mean_squared_error(Y,Y_pre)\n",
    "mse"
   ]
  },
  {
   "cell_type": "code",
   "execution_count": 52,
   "id": "897a46b9",
   "metadata": {},
   "outputs": [],
   "source": [
    "mses.append(mse)"
   ]
  },
  {
   "cell_type": "code",
   "execution_count": 53,
   "id": "cacc9153",
   "metadata": {},
   "outputs": [
    {
     "data": {
      "text/plain": [
       "1.490447730223069"
      ]
     },
     "execution_count": 53,
     "metadata": {},
     "output_type": "execute_result"
    }
   ],
   "source": [
    "#degree 4\n",
    "X = [feature(data,4) for data in dataset]\n",
    "lr=LinearRegression()\n",
    "lr.fit(X,Y)\n",
    "Y_pre=lr.predict(X)\n",
    "mse=mean_squared_error(Y,Y_pre)\n",
    "mse"
   ]
  },
  {
   "cell_type": "code",
   "execution_count": 54,
   "id": "9a5af2db",
   "metadata": {},
   "outputs": [],
   "source": [
    "mses.append(mse)"
   ]
  },
  {
   "cell_type": "code",
   "execution_count": 55,
   "id": "dee008c4",
   "metadata": {},
   "outputs": [
    {
     "data": {
      "text/plain": [
       "1.4896106953961648"
      ]
     },
     "execution_count": 55,
     "metadata": {},
     "output_type": "execute_result"
    }
   ],
   "source": [
    "#degree 5\n",
    "X = [feature(data,5) for data in dataset]\n",
    "lr=LinearRegression()\n",
    "lr.fit(X,Y)\n",
    "Y_pre=lr.predict(X)\n",
    "mse=mean_squared_error(Y,Y_pre)\n",
    "mse"
   ]
  },
  {
   "cell_type": "code",
   "execution_count": 56,
   "id": "eecc870c",
   "metadata": {},
   "outputs": [],
   "source": [
    "mses.append(mse)"
   ]
  },
  {
   "cell_type": "code",
   "execution_count": 65,
   "id": "e28a28e1",
   "metadata": {},
   "outputs": [
    {
     "name": "stdout",
     "output_type": "stream",
     "text": [
      "[1.5231747404538287, 1.5046686106250917, 1.496684551517923, 1.490447730223069, 1.4896106953961648]\n"
     ]
    }
   ],
   "source": [
    "print(mses)"
   ]
  },
  {
   "cell_type": "code",
   "execution_count": 70,
   "id": "d39b3eec",
   "metadata": {},
   "outputs": [],
   "source": [
    "answers['Q3']=mses"
   ]
  },
  {
   "cell_type": "code",
   "execution_count": 71,
   "id": "bbb5da71",
   "metadata": {},
   "outputs": [],
   "source": [
    "assertFloatList(answers['Q3'], 5)# List of length 5"
   ]
  },
  {
   "cell_type": "code",
   "execution_count": 121,
   "id": "dcbb8263",
   "metadata": {},
   "outputs": [],
   "source": [
    "### Question 4"
   ]
  },
  {
   "cell_type": "code",
   "execution_count": 167,
   "id": "100a674b",
   "metadata": {},
   "outputs": [],
   "source": [
    "def feature(datum):\n",
    "    # your implementation\n",
    "    feat = datum['review_text'].count('!')\n",
    "    return [1] + [feat]\n",
    "X = [feature(data) for data in dataset]\n",
    "Y = [data['rating'] for data in dataset]"
   ]
  },
  {
   "cell_type": "code",
   "execution_count": 168,
   "id": "c33a6031",
   "metadata": {},
   "outputs": [],
   "source": [
    "X_train=X[:len(X)//2]\n",
    "X_test=X[len(X)//2:]\n",
    "Y_train=Y[:len(Y)//2]\n",
    "Y_test=Y[len(Y)//2:]"
   ]
  },
  {
   "cell_type": "code",
   "execution_count": 170,
   "id": "57e6537f",
   "metadata": {},
   "outputs": [
    {
     "data": {
      "text/plain": [
       "1.5248743859866292"
      ]
     },
     "execution_count": 170,
     "metadata": {},
     "output_type": "execute_result"
    }
   ],
   "source": [
    "#degree 1\n",
    "lr=LinearRegression()\n",
    "lr.fit(X_train,Y_train)\n",
    "Y_pre=lr.predict(X_test)\n",
    "mse=mean_squared_error(Y_test,Y_pre)\n",
    "mse"
   ]
  },
  {
   "cell_type": "code",
   "execution_count": 171,
   "id": "15dfc05a",
   "metadata": {},
   "outputs": [],
   "source": [
    "mses=[]\n",
    "mses.append(mse)"
   ]
  },
  {
   "cell_type": "code",
   "execution_count": 172,
   "id": "31a67e98",
   "metadata": {},
   "outputs": [],
   "source": [
    "def moredegree(data):\n",
    "    for i in range(len(data)):\n",
    "        tmp=data[i]+[data[i][1]*data[i][-1]]\n",
    "        data[i]=tmp\n",
    "    return data"
   ]
  },
  {
   "cell_type": "code",
   "execution_count": 173,
   "id": "9978b8bd",
   "metadata": {},
   "outputs": [
    {
     "data": {
      "text/plain": [
       "1.4977199259322445"
      ]
     },
     "execution_count": 173,
     "metadata": {},
     "output_type": "execute_result"
    }
   ],
   "source": [
    "#degree 2\n",
    "X_train=moredegree(X_train)\n",
    "X_test=moredegree(X_test)\n",
    "lr.fit(X_train,Y_train)\n",
    "Y_pre=lr.predict(X_test)\n",
    "mse=mean_squared_error(Y_test,Y_pre)\n",
    "mse"
   ]
  },
  {
   "cell_type": "code",
   "execution_count": 174,
   "id": "bf5ce5d6",
   "metadata": {},
   "outputs": [],
   "source": [
    "mses.append(mse)"
   ]
  },
  {
   "cell_type": "code",
   "execution_count": 175,
   "id": "cfe109f7",
   "metadata": {},
   "outputs": [
    {
     "data": {
      "text/plain": [
       "1.4856632190311088"
      ]
     },
     "execution_count": 175,
     "metadata": {},
     "output_type": "execute_result"
    }
   ],
   "source": [
    "#degree 3\n",
    "X_train=moredegree(X_train)\n",
    "X_test=moredegree(X_test)\n",
    "lr.fit(X_train,Y_train)\n",
    "Y_pre=lr.predict(X_test)\n",
    "mse=mean_squared_error(Y_test,Y_pre)\n",
    "mse"
   ]
  },
  {
   "cell_type": "code",
   "execution_count": 176,
   "id": "078508bd",
   "metadata": {},
   "outputs": [],
   "source": [
    "mses.append(mse)"
   ]
  },
  {
   "cell_type": "code",
   "execution_count": 177,
   "id": "606e15bf",
   "metadata": {},
   "outputs": [
    {
     "data": {
      "text/plain": [
       "1.4767337440080983"
      ]
     },
     "execution_count": 177,
     "metadata": {},
     "output_type": "execute_result"
    }
   ],
   "source": [
    "#degree 4\n",
    "X_train=moredegree(X_train)\n",
    "X_test=moredegree(X_test)\n",
    "lr.fit(X_train,Y_train)\n",
    "Y_pre=lr.predict(X_test)\n",
    "mse=mean_squared_error(Y_test,Y_pre)\n",
    "mse"
   ]
  },
  {
   "cell_type": "code",
   "execution_count": 178,
   "id": "7de104c3",
   "metadata": {},
   "outputs": [],
   "source": [
    "mses.append(mse)"
   ]
  },
  {
   "cell_type": "code",
   "execution_count": 179,
   "id": "b6c4c635",
   "metadata": {},
   "outputs": [
    {
     "data": {
      "text/plain": [
       "1.4809577272893133"
      ]
     },
     "execution_count": 179,
     "metadata": {},
     "output_type": "execute_result"
    }
   ],
   "source": [
    "#degree 5\n",
    "X_train=moredegree(X_train)\n",
    "X_test=moredegree(X_test)\n",
    "lr.fit(X_train,Y_train)\n",
    "Y_pre=lr.predict(X_test)\n",
    "mse=mean_squared_error(Y_test,Y_pre)\n",
    "mse"
   ]
  },
  {
   "cell_type": "code",
   "execution_count": 180,
   "id": "014306a0",
   "metadata": {},
   "outputs": [],
   "source": [
    "mses.append(mse)"
   ]
  },
  {
   "cell_type": "code",
   "execution_count": 181,
   "id": "ab75bf26",
   "metadata": {},
   "outputs": [
    {
     "data": {
      "text/plain": [
       "[1.5248743859866292,\n",
       " 1.4977199259322445,\n",
       " 1.4856632190311088,\n",
       " 1.4767337440080983,\n",
       " 1.4809577272893133]"
      ]
     },
     "execution_count": 181,
     "metadata": {},
     "output_type": "execute_result"
    }
   ],
   "source": [
    "mses"
   ]
  },
  {
   "cell_type": "code",
   "execution_count": 182,
   "id": "fdd505ff",
   "metadata": {},
   "outputs": [],
   "source": [
    "answers['Q4'] = mses"
   ]
  },
  {
   "cell_type": "code",
   "execution_count": 183,
   "id": "d2954061",
   "metadata": {},
   "outputs": [],
   "source": [
    "assertFloatList(answers['Q4'], 5)"
   ]
  },
  {
   "cell_type": "code",
   "execution_count": 184,
   "id": "2fa286a5",
   "metadata": {},
   "outputs": [],
   "source": [
    "### Question 5"
   ]
  },
  {
   "cell_type": "code",
   "execution_count": 185,
   "id": "81dcc36d",
   "metadata": {},
   "outputs": [],
   "source": [
    "def median(arr):\n",
    "    arr.sort()\n",
    "    lenth=len(arr)\n",
    "    return arr[lenth//2] if lenth%2==1 else (arr[lenth//2]+arr[lenth//2-1])/2"
   ]
  },
  {
   "cell_type": "code",
   "execution_count": 186,
   "id": "8600112e",
   "metadata": {},
   "outputs": [
    {
     "data": {
      "text/plain": [
       "4.0"
      ]
     },
     "execution_count": 186,
     "metadata": {},
     "output_type": "execute_result"
    }
   ],
   "source": [
    "best_theta=median(Y_train)\n",
    "best_theta"
   ]
  },
  {
   "cell_type": "code",
   "execution_count": 187,
   "id": "fe934044",
   "metadata": {},
   "outputs": [],
   "source": [
    "from sklearn.metrics import mean_absolute_error"
   ]
  },
  {
   "cell_type": "code",
   "execution_count": 188,
   "id": "2ba9cbfc",
   "metadata": {},
   "outputs": [
    {
     "data": {
      "text/plain": [
       "0.907"
      ]
     },
     "execution_count": 188,
     "metadata": {},
     "output_type": "execute_result"
    }
   ],
   "source": [
    "mae=mean_absolute_error(Y_test,[best_theta]*len(Y_test))\n",
    "mae"
   ]
  },
  {
   "cell_type": "code",
   "execution_count": 189,
   "id": "b3a2e9b9",
   "metadata": {},
   "outputs": [],
   "source": [
    "answers['Q5'] = mae"
   ]
  },
  {
   "cell_type": "code",
   "execution_count": 190,
   "id": "d71a47ed",
   "metadata": {},
   "outputs": [],
   "source": [
    "assertFloat(answers['Q5'])"
   ]
  },
  {
   "cell_type": "code",
   "execution_count": 534,
   "id": "cf84f30c",
   "metadata": {},
   "outputs": [],
   "source": [
    "### Question 6"
   ]
  },
  {
   "cell_type": "code",
   "execution_count": 535,
   "id": "19b5b795",
   "metadata": {},
   "outputs": [],
   "source": [
    "f = open(\"beer_50000.json\")\n",
    "dataset = []\n",
    "for l in f:\n",
    "    if 'user/gender' in l:\n",
    "        dataset.append(eval(l))"
   ]
  },
  {
   "cell_type": "code",
   "execution_count": 536,
   "id": "299d4fee",
   "metadata": {},
   "outputs": [
    {
     "data": {
      "text/plain": [
       "20403"
      ]
     },
     "execution_count": 536,
     "metadata": {},
     "output_type": "execute_result"
    }
   ],
   "source": [
    "len(dataset)"
   ]
  },
  {
   "cell_type": "code",
   "execution_count": 537,
   "id": "41bfa6eb",
   "metadata": {},
   "outputs": [
    {
     "data": {
      "text/plain": [
       "{'review/appearance': 4.0,\n",
       " 'beer/style': 'American Double / Imperial IPA',\n",
       " 'review/palate': 4.0,\n",
       " 'review/taste': 4.5,\n",
       " 'beer/name': 'Cauldron DIPA',\n",
       " 'review/timeUnix': 1293735206,\n",
       " 'user/gender': 'Male',\n",
       " 'user/birthdayRaw': 'Jun 16, 1901',\n",
       " 'beer/ABV': 7.7,\n",
       " 'beer/beerId': '64883',\n",
       " 'user/birthdayUnix': -2163081600,\n",
       " 'beer/brewerId': '1075',\n",
       " 'review/timeStruct': {'isdst': 0,\n",
       "  'mday': 30,\n",
       "  'hour': 18,\n",
       "  'min': 53,\n",
       "  'sec': 26,\n",
       "  'mon': 12,\n",
       "  'year': 2010,\n",
       "  'yday': 364,\n",
       "  'wday': 3},\n",
       " 'user/ageInSeconds': 3581417047,\n",
       " 'review/overall': 4.0,\n",
       " 'review/text': \"According to the website, the style for the Caldera Cauldron changes every year. The current release is a DIPA, which frankly is the only cauldron I'm familiar with (it was an IPA/DIPA the last time I ordered a cauldron at the horsebrass several years back). In any event... at the Horse Brass yesterday.\\t\\tThe beer pours an orange copper color with good head retention and lacing. The nose is all hoppy IPA goodness, showcasing a huge aroma of dry citrus, pine and sandlewood. The flavor profile replicates the nose pretty closely in this West Coast all the way DIPA. This DIPA is not for the faint of heart and is a bit much even for a hophead like myslf. The finish is quite dry and hoppy, and there's barely enough sweet malt to balance and hold up the avalanche of hoppy bitterness in this beer. Mouthfeel is actually fairly light, with a long, persistentely bitter finish. Drinkability is good, with the alcohol barely noticeable in this well crafted beer. Still, this beer is so hugely hoppy/bitter, it's really hard for me to imagine ordering more than a single glass. Regardless, this is a very impressive beer from the folks at Caldera.\",\n",
       " 'user/profileName': 'johnmichaelsen',\n",
       " 'review/aroma': 4.5}"
      ]
     },
     "execution_count": 537,
     "metadata": {},
     "output_type": "execute_result"
    }
   ],
   "source": [
    "dataset[0]"
   ]
  },
  {
   "cell_type": "code",
   "execution_count": 538,
   "id": "75486e01",
   "metadata": {},
   "outputs": [],
   "source": [
    "def feature(datum):\n",
    "    # your implementation\n",
    "    feat = datum['review/text'].count('!')\n",
    "    return [feat]"
   ]
  },
  {
   "cell_type": "code",
   "execution_count": 539,
   "id": "cf95bec0",
   "metadata": {},
   "outputs": [],
   "source": [
    "X = [[1]+feature(data) for data in dataset]\n",
    "Y = [1 if data['user/gender']=='Female' else 0 for data in dataset]"
   ]
  },
  {
   "cell_type": "code",
   "execution_count": 540,
   "id": "75399607",
   "metadata": {},
   "outputs": [
    {
     "name": "stdout",
     "output_type": "stream",
     "text": [
      "[[1, 0], [1, 0], [1, 0], [1, 0], [1, 0], [1, 0], [1, 0], [1, 1], [1, 1], [1, 0], [1, 1], [1, 0], [1, 0], [1, 0], [1, 0], [1, 0], [1, 0], [1, 0], [1, 0], [1, 0], [1, 0], [1, 2], [1, 0], [1, 0], [1, 0], [1, 0], [1, 0], [1, 0], [1, 0], [1, 3], [1, 0], [1, 0], [1, 0], [1, 0], [1, 0], [1, 0], [1, 1], [1, 0], [1, 0], [1, 0]]\n"
     ]
    }
   ],
   "source": [
    "print(X[:40])"
   ]
  },
  {
   "cell_type": "code",
   "execution_count": 541,
   "id": "8c9fb0e5",
   "metadata": {},
   "outputs": [
    {
     "name": "stdout",
     "output_type": "stream",
     "text": [
      "[0, 0, 0, 0, 0, 0, 0, 0, 0, 0, 0, 0, 0, 0, 0, 0, 0, 0, 0, 0, 0, 1, 0, 0, 0, 0, 0, 0, 0, 0, 0, 0, 0, 0, 0, 0, 0, 0, 0, 0]\n"
     ]
    }
   ],
   "source": [
    "print(Y[:40])"
   ]
  },
  {
   "cell_type": "code",
   "execution_count": 542,
   "id": "f9450eb3",
   "metadata": {},
   "outputs": [],
   "source": [
    "from sklearn.linear_model import LogisticRegression\n",
    "from sklearn.metrics import confusion_matrix"
   ]
  },
  {
   "cell_type": "code",
   "execution_count": 543,
   "id": "3a8edb56",
   "metadata": {},
   "outputs": [
    {
     "data": {
      "text/plain": [
       "LogisticRegression()"
      ]
     },
     "execution_count": 543,
     "metadata": {},
     "output_type": "execute_result"
    }
   ],
   "source": [
    "Lr=LogisticRegression()\n",
    "Lr.fit(X,Y)"
   ]
  },
  {
   "cell_type": "code",
   "execution_count": 544,
   "id": "3f9bd850",
   "metadata": {},
   "outputs": [],
   "source": [
    "y_pre=Lr.predict(X)"
   ]
  },
  {
   "cell_type": "code",
   "execution_count": 545,
   "id": "ecfe168e",
   "metadata": {},
   "outputs": [
    {
     "data": {
      "text/plain": [
       "array([[20095,     0],\n",
       "       [  308,     0]])"
      ]
     },
     "execution_count": 545,
     "metadata": {},
     "output_type": "execute_result"
    }
   ],
   "source": [
    "coef_mat=confusion_matrix(Y,y_pre)\n",
    "coef_mat"
   ]
  },
  {
   "cell_type": "code",
   "execution_count": 546,
   "id": "e0ce9c0b",
   "metadata": {},
   "outputs": [],
   "source": [
    "TN, FP=coef_mat[0][0],coef_mat[0][1]\n",
    "FN, TP=coef_mat[1][0],coef_mat[1][1]"
   ]
  },
  {
   "cell_type": "code",
   "execution_count": 547,
   "id": "0a88a229",
   "metadata": {},
   "outputs": [],
   "source": [
    "def get_ber(TP,TN,FP,FN):\n",
    "    return (FP/(FP+TN)+FN/(FN+TP))/2"
   ]
  },
  {
   "cell_type": "code",
   "execution_count": 548,
   "id": "95d82ff9",
   "metadata": {},
   "outputs": [
    {
     "data": {
      "text/plain": [
       "0.5"
      ]
     },
     "execution_count": 548,
     "metadata": {},
     "output_type": "execute_result"
    }
   ],
   "source": [
    "BER=get_ber(TP,TN,FP,FN)\n",
    "BER"
   ]
  },
  {
   "cell_type": "code",
   "execution_count": 549,
   "id": "0c35d20a",
   "metadata": {},
   "outputs": [
    {
     "name": "stdout",
     "output_type": "stream",
     "text": [
      "[0, 20095, 0, 308, 0.5]\n"
     ]
    }
   ],
   "source": [
    "answers['Q6'] = [TP, TN, FP, FN, BER]\n",
    "print(answers['Q6'])"
   ]
  },
  {
   "cell_type": "code",
   "execution_count": 550,
   "id": "9b18991a",
   "metadata": {},
   "outputs": [],
   "source": [
    "assertFloatList(answers['Q6'], 5)"
   ]
  },
  {
   "cell_type": "code",
   "execution_count": 551,
   "id": "f066f3d5",
   "metadata": {},
   "outputs": [],
   "source": [
    "### Question 7"
   ]
  },
  {
   "cell_type": "code",
   "execution_count": 552,
   "id": "d24c241f",
   "metadata": {},
   "outputs": [],
   "source": [
    "X = [[1]+feature(data) for data in dataset]\n",
    "Y = [data['user/gender']=='Female' for data in dataset]"
   ]
  },
  {
   "cell_type": "code",
   "execution_count": 553,
   "id": "19c32f00",
   "metadata": {},
   "outputs": [],
   "source": [
    "from sklearn.linear_model import LogisticRegression\n",
    "from sklearn.metrics import confusion_matrix\n",
    "Lr=LogisticRegression(class_weight='balanced')\n",
    "Lr.fit(X,Y)\n",
    "y_pre=Lr.predict(X)"
   ]
  },
  {
   "cell_type": "code",
   "execution_count": 554,
   "id": "8c444ed8",
   "metadata": {},
   "outputs": [
    {
     "data": {
      "text/plain": [
       "array([[16332,  3763],\n",
       "       [  220,    88]])"
      ]
     },
     "execution_count": 554,
     "metadata": {},
     "output_type": "execute_result"
    }
   ],
   "source": [
    "y_pre=Lr.predict(X)\n",
    "coef_mat=confusion_matrix(Y,y_pre)\n",
    "coef_mat"
   ]
  },
  {
   "cell_type": "code",
   "execution_count": 558,
   "id": "6ea7f808",
   "metadata": {},
   "outputs": [],
   "source": [
    "TN, FP=coef_mat[0][0],coef_mat[0][1]\n",
    "FN, TP=coef_mat[1][0],coef_mat[1][1]"
   ]
  },
  {
   "cell_type": "code",
   "execution_count": 559,
   "id": "35a19d79",
   "metadata": {},
   "outputs": [
    {
     "data": {
      "text/plain": [
       "0.4507731134255145"
      ]
     },
     "execution_count": 559,
     "metadata": {},
     "output_type": "execute_result"
    }
   ],
   "source": [
    "BER=get_ber(TP,TN,FP,FN)\n",
    "BER"
   ]
  },
  {
   "cell_type": "code",
   "execution_count": 560,
   "id": "0622704c",
   "metadata": {},
   "outputs": [
    {
     "name": "stdout",
     "output_type": "stream",
     "text": [
      "[88, 16332, 3763, 220, 0.4507731134255145]\n"
     ]
    }
   ],
   "source": [
    "answers[\"Q7\"] = [TP, TN, FP, FN, BER]\n",
    "print(answers[\"Q7\"])"
   ]
  },
  {
   "cell_type": "code",
   "execution_count": 501,
   "id": "efb03c92",
   "metadata": {},
   "outputs": [],
   "source": [
    "assertFloatList(answers['Q7'], 5)"
   ]
  },
  {
   "cell_type": "code",
   "execution_count": 244,
   "id": "0e622c2b",
   "metadata": {},
   "outputs": [],
   "source": [
    "### Question 8"
   ]
  },
  {
   "cell_type": "code",
   "execution_count": 245,
   "id": "9b6bcea5",
   "metadata": {},
   "outputs": [],
   "source": [
    "precisionList=[]"
   ]
  },
  {
   "cell_type": "code",
   "execution_count": 249,
   "id": "75657a1c",
   "metadata": {},
   "outputs": [
    {
     "data": {
      "text/plain": [
       "array([[-0.03667618,  0.18669959]])"
      ]
     },
     "execution_count": 249,
     "metadata": {},
     "output_type": "execute_result"
    }
   ],
   "source": [
    "Lr.coef_"
   ]
  },
  {
   "cell_type": "code",
   "execution_count": 253,
   "id": "6668f889",
   "metadata": {},
   "outputs": [],
   "source": [
    "import numpy as np"
   ]
  },
  {
   "cell_type": "code",
   "execution_count": 254,
   "id": "11890e50",
   "metadata": {},
   "outputs": [
    {
     "data": {
      "text/plain": [
       "[array([-0.03667618]),\n",
       " array([-0.03667618]),\n",
       " array([-0.03667618]),\n",
       " array([-0.03667618]),\n",
       " array([-0.03667618]),\n",
       " array([-0.03667618]),\n",
       " array([-0.03667618]),\n",
       " array([0.15002341]),\n",
       " array([0.15002341]),\n",
       " array([-0.03667618]),\n",
       " array([0.15002341]),\n",
       " array([-0.03667618]),\n",
       " array([-0.03667618]),\n",
       " array([-0.03667618]),\n",
       " array([-0.03667618]),\n",
       " array([-0.03667618]),\n",
       " array([-0.03667618]),\n",
       " array([-0.03667618]),\n",
       " array([-0.03667618]),\n",
       " array([-0.03667618]),\n",
       " array([-0.03667618]),\n",
       " array([0.336723]),\n",
       " array([-0.03667618]),\n",
       " array([-0.03667618]),\n",
       " array([-0.03667618]),\n",
       " array([-0.03667618]),\n",
       " array([-0.03667618]),\n",
       " array([-0.03667618]),\n",
       " array([-0.03667618]),\n",
       " array([0.52342259]),\n",
       " array([-0.03667618]),\n",
       " array([-0.03667618]),\n",
       " array([-0.03667618]),\n",
       " array([-0.03667618]),\n",
       " array([-0.03667618]),\n",
       " array([-0.03667618]),\n",
       " array([0.15002341]),\n",
       " array([-0.03667618]),\n",
       " array([-0.03667618]),\n",
       " array([-0.03667618]),\n",
       " array([-0.03667618]),\n",
       " array([-0.03667618]),\n",
       " array([-0.03667618]),\n",
       " array([0.15002341]),\n",
       " array([-0.03667618]),\n",
       " array([0.336723]),\n",
       " array([-0.03667618]),\n",
       " array([0.15002341]),\n",
       " array([-0.03667618]),\n",
       " array([-0.03667618]),\n",
       " array([-0.03667618]),\n",
       " array([-0.03667618]),\n",
       " array([-0.03667618]),\n",
       " array([-0.03667618]),\n",
       " array([0.336723]),\n",
       " array([0.15002341]),\n",
       " array([-0.03667618]),\n",
       " array([-0.03667618]),\n",
       " array([-0.03667618]),\n",
       " array([-0.03667618]),\n",
       " array([-0.03667618]),\n",
       " array([-0.03667618]),\n",
       " array([0.15002341]),\n",
       " array([-0.03667618]),\n",
       " array([-0.03667618]),\n",
       " array([-0.03667618]),\n",
       " array([-0.03667618]),\n",
       " array([-0.03667618]),\n",
       " array([-0.03667618]),\n",
       " array([0.71012218]),\n",
       " array([0.52342259]),\n",
       " array([-0.03667618]),\n",
       " array([0.15002341]),\n",
       " array([-0.03667618]),\n",
       " array([-0.03667618]),\n",
       " array([-0.03667618]),\n",
       " array([-0.03667618]),\n",
       " array([-0.03667618]),\n",
       " array([0.15002341]),\n",
       " array([-0.03667618]),\n",
       " array([-0.03667618]),\n",
       " array([-0.03667618]),\n",
       " array([-0.03667618]),\n",
       " array([-0.03667618]),\n",
       " array([1.27022095]),\n",
       " array([-0.03667618]),\n",
       " array([-0.03667618]),\n",
       " array([-0.03667618]),\n",
       " array([-0.03667618]),\n",
       " array([-0.03667618]),\n",
       " array([-0.03667618]),\n",
       " array([-0.03667618]),\n",
       " array([-0.03667618]),\n",
       " array([-0.03667618]),\n",
       " array([-0.03667618]),\n",
       " array([-0.03667618]),\n",
       " array([-0.03667618]),\n",
       " array([0.15002341]),\n",
       " array([-0.03667618]),\n",
       " array([-0.03667618]),\n",
       " array([-0.03667618]),\n",
       " array([-0.03667618]),\n",
       " array([-0.03667618]),\n",
       " array([-0.03667618]),\n",
       " array([-0.03667618]),\n",
       " array([-0.03667618]),\n",
       " array([-0.03667618]),\n",
       " array([-0.03667618]),\n",
       " array([-0.03667618]),\n",
       " array([-0.03667618]),\n",
       " array([-0.03667618]),\n",
       " array([-0.03667618]),\n",
       " array([-0.03667618]),\n",
       " array([-0.03667618]),\n",
       " array([-0.03667618]),\n",
       " array([0.15002341]),\n",
       " array([-0.03667618]),\n",
       " array([-0.03667618]),\n",
       " array([0.336723]),\n",
       " array([0.15002341]),\n",
       " array([0.15002341]),\n",
       " array([-0.03667618]),\n",
       " array([0.15002341]),\n",
       " array([-0.03667618]),\n",
       " array([0.15002341]),\n",
       " array([-0.03667618]),\n",
       " array([-0.03667618]),\n",
       " array([-0.03667618]),\n",
       " array([-0.03667618]),\n",
       " array([-0.03667618]),\n",
       " array([-0.03667618]),\n",
       " array([-0.03667618]),\n",
       " array([-0.03667618]),\n",
       " array([-0.03667618]),\n",
       " array([-0.03667618]),\n",
       " array([0.15002341]),\n",
       " array([-0.03667618]),\n",
       " array([-0.03667618]),\n",
       " array([-0.03667618]),\n",
       " array([-0.03667618]),\n",
       " array([-0.03667618]),\n",
       " array([0.15002341]),\n",
       " array([0.15002341]),\n",
       " array([0.15002341]),\n",
       " array([0.15002341]),\n",
       " array([0.15002341]),\n",
       " array([0.15002341]),\n",
       " array([-0.03667618]),\n",
       " array([-0.03667618]),\n",
       " array([-0.03667618]),\n",
       " array([-0.03667618]),\n",
       " array([-0.03667618]),\n",
       " array([0.15002341]),\n",
       " array([-0.03667618]),\n",
       " array([0.15002341]),\n",
       " array([-0.03667618]),\n",
       " array([0.15002341]),\n",
       " array([-0.03667618]),\n",
       " array([-0.03667618]),\n",
       " array([-0.03667618]),\n",
       " array([-0.03667618]),\n",
       " array([-0.03667618]),\n",
       " array([-0.03667618]),\n",
       " array([-0.03667618]),\n",
       " array([0.89682177]),\n",
       " array([-0.03667618]),\n",
       " array([-0.03667618]),\n",
       " array([-0.03667618]),\n",
       " array([-0.03667618]),\n",
       " array([-0.03667618]),\n",
       " array([-0.03667618]),\n",
       " array([-0.03667618]),\n",
       " array([0.15002341]),\n",
       " array([-0.03667618]),\n",
       " array([-0.03667618]),\n",
       " array([-0.03667618]),\n",
       " array([-0.03667618]),\n",
       " array([0.15002341]),\n",
       " array([-0.03667618]),\n",
       " array([-0.03667618]),\n",
       " array([0.15002341]),\n",
       " array([-0.03667618]),\n",
       " array([-0.03667618]),\n",
       " array([0.15002341]),\n",
       " array([-0.03667618]),\n",
       " array([-0.03667618]),\n",
       " array([-0.03667618]),\n",
       " array([-0.03667618]),\n",
       " array([-0.03667618]),\n",
       " array([0.336723]),\n",
       " array([-0.03667618]),\n",
       " array([-0.03667618]),\n",
       " array([-0.03667618]),\n",
       " array([-0.03667618]),\n",
       " array([-0.03667618]),\n",
       " array([-0.03667618]),\n",
       " array([-0.03667618]),\n",
       " array([0.15002341]),\n",
       " array([0.52342259]),\n",
       " array([-0.03667618]),\n",
       " array([0.15002341]),\n",
       " array([-0.03667618]),\n",
       " array([0.336723]),\n",
       " array([-0.03667618]),\n",
       " array([-0.03667618]),\n",
       " array([-0.03667618]),\n",
       " array([-0.03667618]),\n",
       " array([1.45692054]),\n",
       " array([-0.03667618]),\n",
       " array([-0.03667618]),\n",
       " array([-0.03667618]),\n",
       " array([-0.03667618]),\n",
       " array([-0.03667618]),\n",
       " array([-0.03667618]),\n",
       " array([-0.03667618]),\n",
       " array([0.15002341]),\n",
       " array([-0.03667618]),\n",
       " array([-0.03667618]),\n",
       " array([-0.03667618]),\n",
       " array([-0.03667618]),\n",
       " array([-0.03667618]),\n",
       " array([1.27022095]),\n",
       " array([0.15002341]),\n",
       " array([-0.03667618]),\n",
       " array([-0.03667618]),\n",
       " array([-0.03667618]),\n",
       " array([-0.03667618]),\n",
       " array([-0.03667618]),\n",
       " array([-0.03667618]),\n",
       " array([-0.03667618]),\n",
       " array([-0.03667618]),\n",
       " array([-0.03667618]),\n",
       " array([-0.03667618]),\n",
       " array([-0.03667618]),\n",
       " array([-0.03667618]),\n",
       " array([-0.03667618]),\n",
       " array([-0.03667618]),\n",
       " array([-0.03667618]),\n",
       " array([-0.03667618]),\n",
       " array([0.15002341]),\n",
       " array([0.15002341]),\n",
       " array([-0.03667618]),\n",
       " array([-0.03667618]),\n",
       " array([-0.03667618]),\n",
       " array([-0.03667618]),\n",
       " array([0.15002341]),\n",
       " array([-0.03667618]),\n",
       " array([-0.03667618]),\n",
       " array([-0.03667618]),\n",
       " array([-0.03667618]),\n",
       " array([-0.03667618]),\n",
       " array([-0.03667618]),\n",
       " array([-0.03667618]),\n",
       " array([0.52342259]),\n",
       " array([-0.03667618]),\n",
       " array([0.15002341]),\n",
       " array([-0.03667618]),\n",
       " array([-0.03667618]),\n",
       " array([-0.03667618]),\n",
       " array([0.15002341]),\n",
       " array([-0.03667618]),\n",
       " array([0.15002341]),\n",
       " array([-0.03667618]),\n",
       " array([-0.03667618]),\n",
       " array([-0.03667618]),\n",
       " array([-0.03667618]),\n",
       " array([-0.03667618]),\n",
       " array([-0.03667618]),\n",
       " array([-0.03667618]),\n",
       " array([-0.03667618]),\n",
       " array([0.15002341]),\n",
       " array([-0.03667618]),\n",
       " array([-0.03667618]),\n",
       " array([0.15002341]),\n",
       " array([-0.03667618]),\n",
       " array([-0.03667618]),\n",
       " array([-0.03667618]),\n",
       " array([-0.03667618]),\n",
       " array([-0.03667618]),\n",
       " array([0.52342259]),\n",
       " array([-0.03667618]),\n",
       " array([-0.03667618]),\n",
       " array([-0.03667618]),\n",
       " array([-0.03667618]),\n",
       " array([0.71012218]),\n",
       " array([-0.03667618]),\n",
       " array([-0.03667618]),\n",
       " array([-0.03667618]),\n",
       " array([-0.03667618]),\n",
       " array([-0.03667618]),\n",
       " array([-0.03667618]),\n",
       " array([-0.03667618]),\n",
       " array([-0.03667618]),\n",
       " array([-0.03667618]),\n",
       " array([-0.03667618]),\n",
       " array([-0.03667618]),\n",
       " array([0.71012218]),\n",
       " array([-0.03667618]),\n",
       " array([-0.03667618]),\n",
       " array([-0.03667618]),\n",
       " array([-0.03667618]),\n",
       " array([-0.03667618]),\n",
       " array([-0.03667618]),\n",
       " array([-0.03667618]),\n",
       " array([-0.03667618]),\n",
       " array([0.15002341]),\n",
       " array([0.15002341]),\n",
       " array([0.15002341]),\n",
       " array([-0.03667618]),\n",
       " array([0.15002341]),\n",
       " array([-0.03667618]),\n",
       " array([-0.03667618]),\n",
       " array([-0.03667618]),\n",
       " array([-0.03667618]),\n",
       " array([0.15002341]),\n",
       " array([-0.03667618]),\n",
       " array([-0.03667618]),\n",
       " array([0.89682177]),\n",
       " array([-0.03667618]),\n",
       " array([-0.03667618]),\n",
       " array([-0.03667618]),\n",
       " array([-0.03667618]),\n",
       " array([-0.03667618]),\n",
       " array([-0.03667618]),\n",
       " array([0.15002341]),\n",
       " array([-0.03667618]),\n",
       " array([-0.03667618]),\n",
       " array([-0.03667618]),\n",
       " array([-0.03667618]),\n",
       " array([-0.03667618]),\n",
       " array([-0.03667618]),\n",
       " array([-0.03667618]),\n",
       " array([-0.03667618]),\n",
       " array([-0.03667618]),\n",
       " array([-0.03667618]),\n",
       " array([-0.03667618]),\n",
       " array([0.52342259]),\n",
       " array([-0.03667618]),\n",
       " array([0.336723]),\n",
       " array([-0.03667618]),\n",
       " array([-0.03667618]),\n",
       " array([-0.03667618]),\n",
       " array([0.15002341]),\n",
       " array([-0.03667618]),\n",
       " array([-0.03667618]),\n",
       " array([-0.03667618]),\n",
       " array([-0.03667618]),\n",
       " array([0.15002341]),\n",
       " array([-0.03667618]),\n",
       " array([-0.03667618]),\n",
       " array([-0.03667618]),\n",
       " array([-0.03667618]),\n",
       " array([-0.03667618]),\n",
       " array([-0.03667618]),\n",
       " array([-0.03667618]),\n",
       " array([-0.03667618]),\n",
       " array([-0.03667618]),\n",
       " array([-0.03667618]),\n",
       " array([-0.03667618]),\n",
       " array([-0.03667618]),\n",
       " array([-0.03667618]),\n",
       " array([-0.03667618]),\n",
       " array([-0.03667618]),\n",
       " array([-0.03667618]),\n",
       " array([-0.03667618]),\n",
       " array([0.15002341]),\n",
       " array([-0.03667618]),\n",
       " array([-0.03667618]),\n",
       " array([-0.03667618]),\n",
       " array([-0.03667618]),\n",
       " array([0.15002341]),\n",
       " array([-0.03667618]),\n",
       " array([1.64362014]),\n",
       " array([-0.03667618]),\n",
       " array([-0.03667618]),\n",
       " array([-0.03667618]),\n",
       " array([-0.03667618]),\n",
       " array([-0.03667618]),\n",
       " array([-0.03667618]),\n",
       " array([0.15002341]),\n",
       " array([-0.03667618]),\n",
       " array([-0.03667618]),\n",
       " array([-0.03667618]),\n",
       " array([0.15002341]),\n",
       " array([-0.03667618]),\n",
       " array([0.15002341]),\n",
       " array([-0.03667618]),\n",
       " array([-0.03667618]),\n",
       " array([-0.03667618]),\n",
       " array([0.15002341]),\n",
       " array([-0.03667618]),\n",
       " array([-0.03667618]),\n",
       " array([-0.03667618]),\n",
       " array([-0.03667618]),\n",
       " array([-0.03667618]),\n",
       " array([0.336723]),\n",
       " array([-0.03667618]),\n",
       " array([-0.03667618]),\n",
       " array([0.15002341]),\n",
       " array([-0.03667618]),\n",
       " array([-0.03667618]),\n",
       " array([-0.03667618]),\n",
       " array([-0.03667618]),\n",
       " array([-0.03667618]),\n",
       " array([-0.03667618]),\n",
       " array([-0.03667618]),\n",
       " array([0.15002341]),\n",
       " array([-0.03667618]),\n",
       " array([0.15002341]),\n",
       " array([-0.03667618]),\n",
       " array([-0.03667618]),\n",
       " array([-0.03667618]),\n",
       " array([-0.03667618]),\n",
       " array([-0.03667618]),\n",
       " array([-0.03667618]),\n",
       " array([-0.03667618]),\n",
       " array([-0.03667618]),\n",
       " array([-0.03667618]),\n",
       " array([-0.03667618]),\n",
       " array([-0.03667618]),\n",
       " array([0.336723]),\n",
       " array([-0.03667618]),\n",
       " array([-0.03667618]),\n",
       " array([-0.03667618]),\n",
       " array([-0.03667618]),\n",
       " array([-0.03667618]),\n",
       " array([-0.03667618]),\n",
       " array([-0.03667618]),\n",
       " array([-0.03667618]),\n",
       " array([-0.03667618]),\n",
       " array([-0.03667618]),\n",
       " array([-0.03667618]),\n",
       " array([-0.03667618]),\n",
       " array([-0.03667618]),\n",
       " array([-0.03667618]),\n",
       " array([-0.03667618]),\n",
       " array([-0.03667618]),\n",
       " array([-0.03667618]),\n",
       " array([-0.03667618]),\n",
       " array([-0.03667618]),\n",
       " array([-0.03667618]),\n",
       " array([-0.03667618]),\n",
       " array([-0.03667618]),\n",
       " array([-0.03667618]),\n",
       " array([-0.03667618]),\n",
       " array([-0.03667618]),\n",
       " array([-0.03667618]),\n",
       " array([-0.03667618]),\n",
       " array([-0.03667618]),\n",
       " array([-0.03667618]),\n",
       " array([-0.03667618]),\n",
       " array([-0.03667618]),\n",
       " array([-0.03667618]),\n",
       " array([0.15002341]),\n",
       " array([-0.03667618]),\n",
       " array([-0.03667618]),\n",
       " array([-0.03667618]),\n",
       " array([-0.03667618]),\n",
       " array([-0.03667618]),\n",
       " array([0.15002341]),\n",
       " array([-0.03667618]),\n",
       " array([-0.03667618]),\n",
       " array([-0.03667618]),\n",
       " array([-0.03667618]),\n",
       " array([-0.03667618]),\n",
       " array([-0.03667618]),\n",
       " array([-0.03667618]),\n",
       " array([-0.03667618]),\n",
       " array([-0.03667618]),\n",
       " array([-0.03667618]),\n",
       " array([-0.03667618]),\n",
       " array([-0.03667618]),\n",
       " array([-0.03667618]),\n",
       " array([-0.03667618]),\n",
       " array([-0.03667618]),\n",
       " array([-0.03667618]),\n",
       " array([-0.03667618]),\n",
       " array([-0.03667618]),\n",
       " array([-0.03667618]),\n",
       " array([-0.03667618]),\n",
       " array([0.15002341]),\n",
       " array([-0.03667618]),\n",
       " array([0.15002341]),\n",
       " array([-0.03667618]),\n",
       " array([-0.03667618]),\n",
       " array([-0.03667618]),\n",
       " array([-0.03667618]),\n",
       " array([-0.03667618]),\n",
       " array([-0.03667618]),\n",
       " array([-0.03667618]),\n",
       " array([-0.03667618]),\n",
       " array([-0.03667618]),\n",
       " array([-0.03667618]),\n",
       " array([-0.03667618]),\n",
       " array([-0.03667618]),\n",
       " array([-0.03667618]),\n",
       " array([-0.03667618]),\n",
       " array([-0.03667618]),\n",
       " array([-0.03667618]),\n",
       " array([-0.03667618]),\n",
       " array([-0.03667618]),\n",
       " array([-0.03667618]),\n",
       " array([-0.03667618]),\n",
       " array([-0.03667618]),\n",
       " array([-0.03667618]),\n",
       " array([-0.03667618]),\n",
       " array([0.15002341]),\n",
       " array([0.15002341]),\n",
       " array([-0.03667618]),\n",
       " array([-0.03667618]),\n",
       " array([-0.03667618]),\n",
       " array([-0.03667618]),\n",
       " array([-0.03667618]),\n",
       " array([-0.03667618]),\n",
       " array([0.15002341]),\n",
       " array([-0.03667618]),\n",
       " array([-0.03667618]),\n",
       " array([-0.03667618]),\n",
       " array([0.15002341]),\n",
       " array([-0.03667618]),\n",
       " array([-0.03667618]),\n",
       " array([-0.03667618]),\n",
       " array([0.15002341]),\n",
       " array([-0.03667618]),\n",
       " array([-0.03667618]),\n",
       " array([-0.03667618]),\n",
       " array([-0.03667618]),\n",
       " array([-0.03667618]),\n",
       " array([-0.03667618]),\n",
       " array([-0.03667618]),\n",
       " array([-0.03667618]),\n",
       " array([-0.03667618]),\n",
       " array([0.15002341]),\n",
       " array([-0.03667618]),\n",
       " array([-0.03667618]),\n",
       " array([-0.03667618]),\n",
       " array([-0.03667618]),\n",
       " array([0.336723]),\n",
       " array([0.336723]),\n",
       " array([-0.03667618]),\n",
       " array([-0.03667618]),\n",
       " array([0.15002341]),\n",
       " array([-0.03667618]),\n",
       " array([0.15002341]),\n",
       " array([-0.03667618]),\n",
       " array([-0.03667618]),\n",
       " array([0.15002341]),\n",
       " array([-0.03667618]),\n",
       " array([-0.03667618]),\n",
       " array([-0.03667618]),\n",
       " array([-0.03667618]),\n",
       " array([-0.03667618]),\n",
       " array([-0.03667618]),\n",
       " array([-0.03667618]),\n",
       " array([-0.03667618]),\n",
       " array([0.15002341]),\n",
       " array([-0.03667618]),\n",
       " array([-0.03667618]),\n",
       " array([-0.03667618]),\n",
       " array([-0.03667618]),\n",
       " array([-0.03667618]),\n",
       " array([-0.03667618]),\n",
       " array([-0.03667618]),\n",
       " array([-0.03667618]),\n",
       " array([-0.03667618]),\n",
       " array([-0.03667618]),\n",
       " array([-0.03667618]),\n",
       " array([-0.03667618]),\n",
       " array([-0.03667618]),\n",
       " array([-0.03667618]),\n",
       " array([-0.03667618]),\n",
       " array([-0.03667618]),\n",
       " array([-0.03667618]),\n",
       " array([-0.03667618]),\n",
       " array([-0.03667618]),\n",
       " array([-0.03667618]),\n",
       " array([-0.03667618]),\n",
       " array([-0.03667618]),\n",
       " array([-0.03667618]),\n",
       " array([-0.03667618]),\n",
       " array([-0.03667618]),\n",
       " array([-0.03667618]),\n",
       " array([-0.03667618]),\n",
       " array([-0.03667618]),\n",
       " array([-0.03667618]),\n",
       " array([-0.03667618]),\n",
       " array([-0.03667618]),\n",
       " array([0.15002341]),\n",
       " array([-0.03667618]),\n",
       " array([-0.03667618]),\n",
       " array([-0.03667618]),\n",
       " array([0.336723]),\n",
       " array([-0.03667618]),\n",
       " array([-0.03667618]),\n",
       " array([-0.03667618]),\n",
       " array([-0.03667618]),\n",
       " array([-0.03667618]),\n",
       " array([-0.03667618]),\n",
       " array([-0.03667618]),\n",
       " array([-0.03667618]),\n",
       " array([-0.03667618]),\n",
       " array([-0.03667618]),\n",
       " array([-0.03667618]),\n",
       " array([-0.03667618]),\n",
       " array([-0.03667618]),\n",
       " array([-0.03667618]),\n",
       " array([-0.03667618]),\n",
       " array([-0.03667618]),\n",
       " array([-0.03667618]),\n",
       " array([0.15002341]),\n",
       " array([-0.03667618]),\n",
       " array([-0.03667618]),\n",
       " array([-0.03667618]),\n",
       " array([-0.03667618]),\n",
       " array([-0.03667618]),\n",
       " array([-0.03667618]),\n",
       " array([-0.03667618]),\n",
       " array([-0.03667618]),\n",
       " array([-0.03667618]),\n",
       " array([-0.03667618]),\n",
       " array([-0.03667618]),\n",
       " array([-0.03667618]),\n",
       " array([-0.03667618]),\n",
       " array([-0.03667618]),\n",
       " array([-0.03667618]),\n",
       " array([-0.03667618]),\n",
       " array([-0.03667618]),\n",
       " array([-0.03667618]),\n",
       " array([-0.03667618]),\n",
       " array([-0.03667618]),\n",
       " array([-0.03667618]),\n",
       " array([0.15002341]),\n",
       " array([-0.03667618]),\n",
       " array([-0.03667618]),\n",
       " array([-0.03667618]),\n",
       " array([-0.03667618]),\n",
       " array([-0.03667618]),\n",
       " array([-0.03667618]),\n",
       " array([-0.03667618]),\n",
       " array([-0.03667618]),\n",
       " array([-0.03667618]),\n",
       " array([-0.03667618]),\n",
       " array([-0.03667618]),\n",
       " array([-0.03667618]),\n",
       " array([-0.03667618]),\n",
       " array([-0.03667618]),\n",
       " array([-0.03667618]),\n",
       " array([-0.03667618]),\n",
       " array([-0.03667618]),\n",
       " array([-0.03667618]),\n",
       " array([-0.03667618]),\n",
       " array([-0.03667618]),\n",
       " array([-0.03667618]),\n",
       " array([-0.03667618]),\n",
       " array([-0.03667618]),\n",
       " array([-0.03667618]),\n",
       " array([0.15002341]),\n",
       " array([-0.03667618]),\n",
       " array([-0.03667618]),\n",
       " array([-0.03667618]),\n",
       " array([-0.03667618]),\n",
       " array([-0.03667618]),\n",
       " array([0.336723]),\n",
       " array([-0.03667618]),\n",
       " array([-0.03667618]),\n",
       " array([0.15002341]),\n",
       " array([-0.03667618]),\n",
       " array([-0.03667618]),\n",
       " array([-0.03667618]),\n",
       " array([0.52342259]),\n",
       " array([0.15002341]),\n",
       " array([-0.03667618]),\n",
       " array([-0.03667618]),\n",
       " array([-0.03667618]),\n",
       " array([0.15002341]),\n",
       " array([-0.03667618]),\n",
       " array([0.15002341]),\n",
       " array([-0.03667618]),\n",
       " array([-0.03667618]),\n",
       " array([-0.03667618]),\n",
       " array([-0.03667618]),\n",
       " array([-0.03667618]),\n",
       " array([-0.03667618]),\n",
       " array([-0.03667618]),\n",
       " array([-0.03667618]),\n",
       " array([-0.03667618]),\n",
       " array([0.15002341]),\n",
       " array([0.15002341]),\n",
       " array([-0.03667618]),\n",
       " array([-0.03667618]),\n",
       " array([-0.03667618]),\n",
       " array([0.336723]),\n",
       " array([0.15002341]),\n",
       " array([-0.03667618]),\n",
       " array([-0.03667618]),\n",
       " array([0.336723]),\n",
       " array([-0.03667618]),\n",
       " array([-0.03667618]),\n",
       " array([-0.03667618]),\n",
       " array([-0.03667618]),\n",
       " array([-0.03667618]),\n",
       " array([-0.03667618]),\n",
       " array([-0.03667618]),\n",
       " array([-0.03667618]),\n",
       " array([-0.03667618]),\n",
       " array([-0.03667618]),\n",
       " array([0.15002341]),\n",
       " array([-0.03667618]),\n",
       " array([0.15002341]),\n",
       " array([-0.03667618]),\n",
       " array([0.15002341]),\n",
       " array([-0.03667618]),\n",
       " array([-0.03667618]),\n",
       " array([-0.03667618]),\n",
       " array([-0.03667618]),\n",
       " array([-0.03667618]),\n",
       " array([-0.03667618]),\n",
       " array([-0.03667618]),\n",
       " array([0.336723]),\n",
       " array([-0.03667618]),\n",
       " array([0.15002341]),\n",
       " array([-0.03667618]),\n",
       " array([-0.03667618]),\n",
       " array([-0.03667618]),\n",
       " array([-0.03667618]),\n",
       " array([-0.03667618]),\n",
       " array([0.52342259]),\n",
       " array([-0.03667618]),\n",
       " array([0.15002341]),\n",
       " array([-0.03667618]),\n",
       " array([-0.03667618]),\n",
       " array([-0.03667618]),\n",
       " array([0.15002341]),\n",
       " array([-0.03667618]),\n",
       " array([-0.03667618]),\n",
       " array([-0.03667618]),\n",
       " array([-0.03667618]),\n",
       " array([0.336723]),\n",
       " array([0.71012218]),\n",
       " array([-0.03667618]),\n",
       " array([-0.03667618]),\n",
       " array([-0.03667618]),\n",
       " array([-0.03667618]),\n",
       " array([-0.03667618]),\n",
       " array([-0.03667618]),\n",
       " array([-0.03667618]),\n",
       " array([-0.03667618]),\n",
       " array([-0.03667618]),\n",
       " array([-0.03667618]),\n",
       " array([-0.03667618]),\n",
       " array([-0.03667618]),\n",
       " array([-0.03667618]),\n",
       " array([-0.03667618]),\n",
       " array([-0.03667618]),\n",
       " array([-0.03667618]),\n",
       " array([-0.03667618]),\n",
       " array([-0.03667618]),\n",
       " array([-0.03667618]),\n",
       " array([0.336723]),\n",
       " array([-0.03667618]),\n",
       " array([-0.03667618]),\n",
       " array([-0.03667618]),\n",
       " array([-0.03667618]),\n",
       " array([-0.03667618]),\n",
       " array([-0.03667618]),\n",
       " array([-0.03667618]),\n",
       " array([-0.03667618]),\n",
       " array([-0.03667618]),\n",
       " array([-0.03667618]),\n",
       " array([-0.03667618]),\n",
       " array([-0.03667618]),\n",
       " array([-0.03667618]),\n",
       " array([-0.03667618]),\n",
       " array([-0.03667618]),\n",
       " array([-0.03667618]),\n",
       " array([-0.03667618]),\n",
       " array([-0.03667618]),\n",
       " array([-0.03667618]),\n",
       " array([-0.03667618]),\n",
       " array([-0.03667618]),\n",
       " array([-0.03667618]),\n",
       " array([1.45692054]),\n",
       " array([0.15002341]),\n",
       " array([-0.03667618]),\n",
       " array([-0.03667618]),\n",
       " array([-0.03667618]),\n",
       " array([-0.03667618]),\n",
       " array([-0.03667618]),\n",
       " array([0.15002341]),\n",
       " array([-0.03667618]),\n",
       " array([-0.03667618]),\n",
       " array([-0.03667618]),\n",
       " array([-0.03667618]),\n",
       " array([0.15002341]),\n",
       " array([-0.03667618]),\n",
       " array([-0.03667618]),\n",
       " array([-0.03667618]),\n",
       " array([0.15002341]),\n",
       " array([-0.03667618]),\n",
       " array([-0.03667618]),\n",
       " array([-0.03667618]),\n",
       " array([-0.03667618]),\n",
       " array([-0.03667618]),\n",
       " array([-0.03667618]),\n",
       " array([-0.03667618]),\n",
       " array([-0.03667618]),\n",
       " array([-0.03667618]),\n",
       " array([-0.03667618]),\n",
       " array([-0.03667618]),\n",
       " array([-0.03667618]),\n",
       " array([-0.03667618]),\n",
       " array([0.15002341]),\n",
       " array([-0.03667618]),\n",
       " array([-0.03667618]),\n",
       " array([-0.03667618]),\n",
       " array([-0.03667618]),\n",
       " array([-0.03667618]),\n",
       " array([-0.03667618]),\n",
       " array([-0.03667618]),\n",
       " array([-0.03667618]),\n",
       " array([-0.03667618]),\n",
       " array([0.15002341]),\n",
       " array([-0.03667618]),\n",
       " array([-0.03667618]),\n",
       " array([-0.03667618]),\n",
       " array([-0.03667618]),\n",
       " array([-0.03667618]),\n",
       " array([0.15002341]),\n",
       " array([-0.03667618]),\n",
       " array([-0.03667618]),\n",
       " array([-0.03667618]),\n",
       " array([-0.03667618]),\n",
       " array([-0.03667618]),\n",
       " array([-0.03667618]),\n",
       " array([-0.03667618]),\n",
       " array([-0.03667618]),\n",
       " array([-0.03667618]),\n",
       " array([-0.03667618]),\n",
       " array([-0.03667618]),\n",
       " array([-0.03667618]),\n",
       " array([-0.03667618]),\n",
       " array([-0.03667618]),\n",
       " array([-0.03667618]),\n",
       " array([-0.03667618]),\n",
       " array([-0.03667618]),\n",
       " array([-0.03667618]),\n",
       " array([-0.03667618]),\n",
       " array([-0.03667618]),\n",
       " array([-0.03667618]),\n",
       " array([-0.03667618]),\n",
       " array([-0.03667618]),\n",
       " array([-0.03667618]),\n",
       " array([-0.03667618]),\n",
       " array([-0.03667618]),\n",
       " array([-0.03667618]),\n",
       " array([-0.03667618]),\n",
       " array([0.15002341]),\n",
       " array([-0.03667618]),\n",
       " array([-0.03667618]),\n",
       " array([-0.03667618]),\n",
       " array([-0.03667618]),\n",
       " array([-0.03667618]),\n",
       " array([0.15002341]),\n",
       " array([0.15002341]),\n",
       " array([-0.03667618]),\n",
       " array([-0.03667618]),\n",
       " array([0.336723]),\n",
       " array([-0.03667618]),\n",
       " array([-0.03667618]),\n",
       " array([-0.03667618]),\n",
       " array([-0.03667618]),\n",
       " array([0.15002341]),\n",
       " array([0.15002341]),\n",
       " array([-0.03667618]),\n",
       " array([0.15002341]),\n",
       " array([-0.03667618]),\n",
       " array([-0.03667618]),\n",
       " array([0.15002341]),\n",
       " array([-0.03667618]),\n",
       " array([-0.03667618]),\n",
       " array([-0.03667618]),\n",
       " array([-0.03667618]),\n",
       " array([-0.03667618]),\n",
       " array([-0.03667618]),\n",
       " array([-0.03667618]),\n",
       " array([-0.03667618]),\n",
       " array([-0.03667618]),\n",
       " array([0.15002341]),\n",
       " array([0.15002341]),\n",
       " array([-0.03667618]),\n",
       " array([0.15002341]),\n",
       " array([-0.03667618]),\n",
       " array([-0.03667618]),\n",
       " array([-0.03667618]),\n",
       " array([-0.03667618]),\n",
       " array([-0.03667618]),\n",
       " array([-0.03667618]),\n",
       " array([-0.03667618]),\n",
       " array([0.15002341]),\n",
       " array([-0.03667618]),\n",
       " array([0.336723]),\n",
       " array([-0.03667618]),\n",
       " array([-0.03667618]),\n",
       " array([-0.03667618]),\n",
       " array([-0.03667618]),\n",
       " array([-0.03667618]),\n",
       " array([-0.03667618]),\n",
       " array([-0.03667618]),\n",
       " array([-0.03667618]),\n",
       " array([-0.03667618]),\n",
       " array([-0.03667618]),\n",
       " array([-0.03667618]),\n",
       " array([-0.03667618]),\n",
       " array([-0.03667618]),\n",
       " array([0.336723]),\n",
       " array([-0.03667618]),\n",
       " array([0.15002341]),\n",
       " array([-0.03667618]),\n",
       " array([-0.03667618]),\n",
       " array([-0.03667618]),\n",
       " array([-0.03667618]),\n",
       " array([-0.03667618]),\n",
       " array([-0.03667618]),\n",
       " array([-0.03667618]),\n",
       " array([-0.03667618]),\n",
       " array([-0.03667618]),\n",
       " array([-0.03667618]),\n",
       " array([-0.03667618]),\n",
       " array([-0.03667618]),\n",
       " array([-0.03667618]),\n",
       " array([-0.03667618]),\n",
       " array([-0.03667618]),\n",
       " array([-0.03667618]),\n",
       " array([0.15002341]),\n",
       " array([-0.03667618]),\n",
       " array([-0.03667618]),\n",
       " array([-0.03667618]),\n",
       " array([-0.03667618]),\n",
       " array([-0.03667618]),\n",
       " array([-0.03667618]),\n",
       " array([-0.03667618]),\n",
       " array([-0.03667618]),\n",
       " array([-0.03667618]),\n",
       " array([-0.03667618]),\n",
       " array([-0.03667618]),\n",
       " array([-0.03667618]),\n",
       " array([-0.03667618]),\n",
       " array([0.15002341]),\n",
       " array([-0.03667618]),\n",
       " array([0.336723]),\n",
       " array([0.15002341]),\n",
       " array([0.15002341]),\n",
       " array([-0.03667618]),\n",
       " array([-0.03667618]),\n",
       " array([-0.03667618]),\n",
       " array([-0.03667618]),\n",
       " array([-0.03667618]),\n",
       " array([-0.03667618]),\n",
       " array([-0.03667618]),\n",
       " array([0.15002341]),\n",
       " array([-0.03667618]),\n",
       " array([-0.03667618]),\n",
       " array([-0.03667618]),\n",
       " array([-0.03667618]),\n",
       " array([-0.03667618]),\n",
       " array([-0.03667618]),\n",
       " array([-0.03667618]),\n",
       " array([-0.03667618]),\n",
       " array([-0.03667618]),\n",
       " array([-0.03667618]),\n",
       " array([-0.03667618]),\n",
       " array([-0.03667618]),\n",
       " array([0.52342259]),\n",
       " array([-0.03667618]),\n",
       " array([-0.03667618]),\n",
       " array([-0.03667618]),\n",
       " array([-0.03667618]),\n",
       " array([-0.03667618]),\n",
       " array([-0.03667618]),\n",
       " array([0.15002341]),\n",
       " array([0.15002341]),\n",
       " array([0.15002341]),\n",
       " array([0.15002341]),\n",
       " array([-0.03667618]),\n",
       " array([-0.03667618]),\n",
       " array([0.336723]),\n",
       " array([0.52342259]),\n",
       " array([1.27022095]),\n",
       " array([-0.03667618]),\n",
       " array([-0.03667618]),\n",
       " array([-0.03667618]),\n",
       " array([0.71012218]),\n",
       " array([-0.03667618]),\n",
       " array([-0.03667618]),\n",
       " array([-0.03667618]),\n",
       " array([-0.03667618]),\n",
       " array([-0.03667618]),\n",
       " array([-0.03667618]),\n",
       " array([-0.03667618]),\n",
       " array([-0.03667618]),\n",
       " ...]"
      ]
     },
     "execution_count": 254,
     "metadata": {},
     "output_type": "execute_result"
    }
   ],
   "source": [
    "conf=[np.dot(Lr.coef_,x) for x in X]\n",
    "conf"
   ]
  },
  {
   "cell_type": "code",
   "execution_count": 255,
   "id": "75f72a41",
   "metadata": {},
   "outputs": [
    {
     "data": {
      "text/plain": [
       "20403"
      ]
     },
     "execution_count": 255,
     "metadata": {},
     "output_type": "execute_result"
    }
   ],
   "source": [
    "len(conf)"
   ]
  },
  {
   "cell_type": "code",
   "execution_count": 256,
   "id": "5da78c75",
   "metadata": {},
   "outputs": [
    {
     "data": {
      "text/plain": [
       "[(array([4.07071482]), 0),\n",
       " (array([2.76381768]), 0),\n",
       " (array([2.76381768]), 0),\n",
       " (array([2.57711809]), 0),\n",
       " (array([2.57711809]), 0),\n",
       " (array([2.3904185]), 0),\n",
       " (array([2.20371891]), 0),\n",
       " (array([2.20371891]), 0),\n",
       " (array([2.20371891]), 0),\n",
       " (array([2.01701932]), 0)]"
      ]
     },
     "execution_count": 256,
     "metadata": {},
     "output_type": "execute_result"
    }
   ],
   "source": [
    "sbf=list(zip(conf,Y))\n",
    "sbf.sort(reverse=True)\n",
    "sbf[:10]"
   ]
  },
  {
   "cell_type": "code",
   "execution_count": 258,
   "id": "23c58d1b",
   "metadata": {},
   "outputs": [],
   "source": [
    "def get_pre_k(sbf,k):\n",
    "    num=0\n",
    "    for i in range(k):\n",
    "        if sbf[i][1]==True:\n",
    "            num+=1\n",
    "    return num/k"
   ]
  },
  {
   "cell_type": "code",
   "execution_count": 259,
   "id": "3f2bb787",
   "metadata": {},
   "outputs": [
    {
     "data": {
      "text/plain": [
       "[0.0, 0.0, 0.03, 0.033, 0.0308]"
      ]
     },
     "execution_count": 259,
     "metadata": {},
     "output_type": "execute_result"
    }
   ],
   "source": [
    "for k in [1, 10, 100, 1000, 10000]:\n",
    "    precisionList.append(get_pre_k(sbf,k))\n",
    "precisionList"
   ]
  },
  {
   "cell_type": "code",
   "execution_count": null,
   "id": "430e2dd8",
   "metadata": {},
   "outputs": [],
   "source": []
  },
  {
   "cell_type": "code",
   "execution_count": null,
   "id": "d3e8b72b",
   "metadata": {},
   "outputs": [],
   "source": []
  },
  {
   "cell_type": "code",
   "execution_count": 260,
   "id": "764513e1",
   "metadata": {},
   "outputs": [],
   "source": [
    "answers['Q8'] = precisionList"
   ]
  },
  {
   "cell_type": "code",
   "execution_count": 261,
   "id": "b0d7d87a",
   "metadata": {},
   "outputs": [],
   "source": [
    "assertFloatList(answers['Q8'], 5) #List of five floats"
   ]
  },
  {
   "cell_type": "code",
   "execution_count": 562,
   "id": "d557ab88",
   "metadata": {},
   "outputs": [],
   "source": [
    "f = open(\"answers_hw1.txt\", 'w') # Write your answers to a file\n",
    "f.write(str(answers) + '\\n')\n",
    "f.close()"
   ]
  },
  {
   "cell_type": "code",
   "execution_count": null,
   "id": "63b457fc",
   "metadata": {},
   "outputs": [],
   "source": []
  }
 ],
 "metadata": {
  "kernelspec": {
   "display_name": "Python 3 (ipykernel)",
   "language": "python",
   "name": "python3"
  },
  "language_info": {
   "codemirror_mode": {
    "name": "ipython",
    "version": 3
   },
   "file_extension": ".py",
   "mimetype": "text/x-python",
   "name": "python",
   "nbconvert_exporter": "python",
   "pygments_lexer": "ipython3",
   "version": "3.9.12"
  }
 },
 "nbformat": 4,
 "nbformat_minor": 5
}
